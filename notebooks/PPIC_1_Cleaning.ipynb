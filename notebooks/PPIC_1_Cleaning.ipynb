{
 "cells": [
  {
   "cell_type": "markdown",
   "id": "47c028a9",
   "metadata": {},
   "source": [
    "## Public Policy Institute of California (PPIC): Research Associate Recruitment Data Exercise: 1 CLEANING"
   ]
  },
  {
   "cell_type": "markdown",
   "id": "f48aa8ca",
   "metadata": {},
   "source": [
    "#### Prompt\n",
    "\n",
    "We are interested in understanding the Oakland Police Department’s stopping behavior across a variety of different characteristics. <b>Write a short</b> (about one page, not including any tables/figures—if you choose to include any) <b>description of the data that describes the demographics of the individuals stopped (race/ethnicity, gender, and age), the reason for the stop, how many stops lead to an individual being handcuffed, and how many instances drugs were found. Importantly, make sure that you identify any instances that may represent errors or anomalies in the data.<b>\n",
    "\n",
    "We ask you to examine the data and determine whether there are any errors and/or anomalies in these data. After, please provide the information described above (in <b>bold</b>)."
   ]
  },
  {
   "cell_type": "markdown",
   "id": "7bce6687",
   "metadata": {},
   "source": [
    "#### 07/06/2023 at 16:20 CEST\n",
    "* Read in  data, \"RIPA_Oakland_PD_2019.csv\"\n",
    "* Clean data\n",
    "* Export interim and processed data"
   ]
  },
  {
   "cell_type": "markdown",
   "id": "73231a8c",
   "metadata": {},
   "source": [
    "### NOTE: Access the accompanying Obversable notebook for data viz and interpretation: https://observablehq.com/@carolinecullinan/trends-in-police-stops "
   ]
  },
  {
   "cell_type": "code",
   "execution_count": 1,
   "id": "0ad3360d",
   "metadata": {},
   "outputs": [],
   "source": [
    "# import necessary packages\n",
    "import os\n",
    "import numpy as np\n",
    "import pandas as pd\n",
    "#from datetime import datetime"
   ]
  },
  {
   "cell_type": "code",
   "execution_count": 2,
   "id": "76fd7454",
   "metadata": {},
   "outputs": [
    {
     "name": "stdout",
     "output_type": "stream",
     "text": [
      "Directory Changes\n",
      "Current working directory is: C:\\Users\\Carol\\Documents\\Work\\WorkOpportunities\\PPIC\\analysis\n"
     ]
    }
   ],
   "source": [
    "# change working directory to a specified directory\n",
    "os.chdir('../')\n",
    "print(\"Directory Changes\")\n",
    "\n",
    "# Get current working directory\n",
    "cwd = os.getcwd()\n",
    "print(\"Current working directory is:\", cwd)"
   ]
  },
  {
   "cell_type": "markdown",
   "id": "be653dc4",
   "metadata": {},
   "source": [
    "### 0. Data Understanding"
   ]
  },
  {
   "cell_type": "code",
   "execution_count": 3,
   "id": "7af8a683",
   "metadata": {},
   "outputs": [],
   "source": [
    "# read in raw 'RDA_Assessment_2023.csv' data\n",
    "data_raw = pd.read_csv(\"data/raw/RIPA_Oakland_PD_2019.csv\")"
   ]
  },
  {
   "cell_type": "code",
   "execution_count": 4,
   "id": "166c4995",
   "metadata": {},
   "outputs": [
    {
     "data": {
      "text/plain": [
       "(25228, 118)"
      ]
     },
     "execution_count": 4,
     "metadata": {},
     "output_type": "execute_result"
    }
   ],
   "source": [
    "# gain insight into 'data_raw'\n",
    "data_raw.shape \n",
    "\n",
    "# 'data_raw' has 25228 entries, i.e., 25228 stop incidences from January 1, 2019 to December 31, 2019 for participating \n",
    "    ## California agencies "
   ]
  },
  {
   "cell_type": "code",
   "execution_count": 5,
   "id": "ad12a4a5",
   "metadata": {},
   "outputs": [
    {
     "data": {
      "text/html": [
       "<div>\n",
       "<style scoped>\n",
       "    .dataframe tbody tr th:only-of-type {\n",
       "        vertical-align: middle;\n",
       "    }\n",
       "\n",
       "    .dataframe tbody tr th {\n",
       "        vertical-align: top;\n",
       "    }\n",
       "\n",
       "    .dataframe thead th {\n",
       "        text-align: right;\n",
       "    }\n",
       "</style>\n",
       "<table border=\"1\" class=\"dataframe\">\n",
       "  <thead>\n",
       "    <tr style=\"text-align: right;\">\n",
       "      <th></th>\n",
       "      <th>DOJ_RECORD_ID</th>\n",
       "      <th>PERSON_NUMBER</th>\n",
       "      <th>AGENCY_ORI</th>\n",
       "      <th>AGENCY_NAME</th>\n",
       "      <th>TIME_OF_STOP</th>\n",
       "      <th>DATE_OF_STOP</th>\n",
       "      <th>STOP_DURATION</th>\n",
       "      <th>CLOSEST_CITY</th>\n",
       "      <th>SCHOOL_CODE</th>\n",
       "      <th>SCHOOL_NAME</th>\n",
       "      <th>...</th>\n",
       "      <th>ROS_NONCRIMINAL_TRANSPORT</th>\n",
       "      <th>ROS_CONTACT_LEGAL_GUARDIAN</th>\n",
       "      <th>ROS_PSYCH_HOLD</th>\n",
       "      <th>ROS_US_HOMELAND</th>\n",
       "      <th>ROS_REFERRAL_SCHOOL_ADMIN</th>\n",
       "      <th>ROS_REFERRAL_SCHOOL_COUNSELOR</th>\n",
       "      <th>ROS_WARNING_CDS</th>\n",
       "      <th>ROS_CITATION_CDS</th>\n",
       "      <th>ROS_IN_FIELD_CITE_RELEASE_CDS</th>\n",
       "      <th>ROS_CUSTODIAL_WOUT_WARRANT_CDS</th>\n",
       "    </tr>\n",
       "  </thead>\n",
       "  <tbody>\n",
       "    <tr>\n",
       "      <th>25223</th>\n",
       "      <td>S010920091UHOEM31J3K</td>\n",
       "      <td>10</td>\n",
       "      <td>CA0010900</td>\n",
       "      <td>OAKLAND PD</td>\n",
       "      <td>744</td>\n",
       "      <td>11-JUL-19</td>\n",
       "      <td>5</td>\n",
       "      <td>OAKLAND</td>\n",
       "      <td>NaN</td>\n",
       "      <td>NaN</td>\n",
       "      <td>...</td>\n",
       "      <td>0</td>\n",
       "      <td>0</td>\n",
       "      <td>0</td>\n",
       "      <td>0</td>\n",
       "      <td>0</td>\n",
       "      <td>0</td>\n",
       "      <td>NaN</td>\n",
       "      <td>NaN</td>\n",
       "      <td>NaN</td>\n",
       "      <td>NaN</td>\n",
       "    </tr>\n",
       "    <tr>\n",
       "      <th>25224</th>\n",
       "      <td>S010920091UAES4F3U24</td>\n",
       "      <td>10</td>\n",
       "      <td>CA0010900</td>\n",
       "      <td>OAKLAND PD</td>\n",
       "      <td>1356</td>\n",
       "      <td>16-APR-19</td>\n",
       "      <td>90</td>\n",
       "      <td>OAKLAND</td>\n",
       "      <td>NaN</td>\n",
       "      <td>NaN</td>\n",
       "      <td>...</td>\n",
       "      <td>0</td>\n",
       "      <td>0</td>\n",
       "      <td>0</td>\n",
       "      <td>0</td>\n",
       "      <td>0</td>\n",
       "      <td>0</td>\n",
       "      <td>NaN</td>\n",
       "      <td>NaN</td>\n",
       "      <td>NaN</td>\n",
       "      <td>NaN</td>\n",
       "    </tr>\n",
       "    <tr>\n",
       "      <th>25225</th>\n",
       "      <td>S010920091DU7B7BPHC4</td>\n",
       "      <td>10</td>\n",
       "      <td>CA0010900</td>\n",
       "      <td>OAKLAND PD</td>\n",
       "      <td>800</td>\n",
       "      <td>23-APR-19</td>\n",
       "      <td>180</td>\n",
       "      <td>OAKLAND</td>\n",
       "      <td>NaN</td>\n",
       "      <td>NaN</td>\n",
       "      <td>...</td>\n",
       "      <td>0</td>\n",
       "      <td>0</td>\n",
       "      <td>0</td>\n",
       "      <td>0</td>\n",
       "      <td>0</td>\n",
       "      <td>0</td>\n",
       "      <td>NaN</td>\n",
       "      <td>NaN</td>\n",
       "      <td>NaN</td>\n",
       "      <td>NaN</td>\n",
       "    </tr>\n",
       "    <tr>\n",
       "      <th>25226</th>\n",
       "      <td>S010920091QI5SSC4D41</td>\n",
       "      <td>10</td>\n",
       "      <td>CA0010900</td>\n",
       "      <td>OAKLAND PD</td>\n",
       "      <td>600</td>\n",
       "      <td>19-SEP-19</td>\n",
       "      <td>60</td>\n",
       "      <td>DUBLIN</td>\n",
       "      <td>NaN</td>\n",
       "      <td>NaN</td>\n",
       "      <td>...</td>\n",
       "      <td>0</td>\n",
       "      <td>0</td>\n",
       "      <td>0</td>\n",
       "      <td>0</td>\n",
       "      <td>0</td>\n",
       "      <td>0</td>\n",
       "      <td>NaN</td>\n",
       "      <td>NaN</td>\n",
       "      <td>NaN</td>\n",
       "      <td>NaN</td>\n",
       "    </tr>\n",
       "    <tr>\n",
       "      <th>25227</th>\n",
       "      <td>S010920091L20OPZFYSR</td>\n",
       "      <td>10</td>\n",
       "      <td>CA0010900</td>\n",
       "      <td>OAKLAND PD</td>\n",
       "      <td>9</td>\n",
       "      <td>23-FEB-19</td>\n",
       "      <td>120</td>\n",
       "      <td>OAKLAND</td>\n",
       "      <td>NaN</td>\n",
       "      <td>NaN</td>\n",
       "      <td>...</td>\n",
       "      <td>0</td>\n",
       "      <td>0</td>\n",
       "      <td>0</td>\n",
       "      <td>0</td>\n",
       "      <td>0</td>\n",
       "      <td>0</td>\n",
       "      <td>NaN</td>\n",
       "      <td>NaN</td>\n",
       "      <td>NaN</td>\n",
       "      <td>NaN</td>\n",
       "    </tr>\n",
       "  </tbody>\n",
       "</table>\n",
       "<p>5 rows × 118 columns</p>\n",
       "</div>"
      ],
      "text/plain": [
       "              DOJ_RECORD_ID  PERSON_NUMBER AGENCY_ORI AGENCY_NAME  \\\n",
       "25223  S010920091UHOEM31J3K             10  CA0010900  OAKLAND PD   \n",
       "25224  S010920091UAES4F3U24             10  CA0010900  OAKLAND PD   \n",
       "25225  S010920091DU7B7BPHC4             10  CA0010900  OAKLAND PD   \n",
       "25226  S010920091QI5SSC4D41             10  CA0010900  OAKLAND PD   \n",
       "25227  S010920091L20OPZFYSR             10  CA0010900  OAKLAND PD   \n",
       "\n",
       "       TIME_OF_STOP DATE_OF_STOP  STOP_DURATION CLOSEST_CITY  SCHOOL_CODE  \\\n",
       "25223           744    11-JUL-19              5      OAKLAND          NaN   \n",
       "25224          1356    16-APR-19             90      OAKLAND          NaN   \n",
       "25225           800    23-APR-19            180      OAKLAND          NaN   \n",
       "25226           600    19-SEP-19             60       DUBLIN          NaN   \n",
       "25227             9    23-FEB-19            120      OAKLAND          NaN   \n",
       "\n",
       "      SCHOOL_NAME  ...  ROS_NONCRIMINAL_TRANSPORT  ROS_CONTACT_LEGAL_GUARDIAN  \\\n",
       "25223         NaN  ...                          0                           0   \n",
       "25224         NaN  ...                          0                           0   \n",
       "25225         NaN  ...                          0                           0   \n",
       "25226         NaN  ...                          0                           0   \n",
       "25227         NaN  ...                          0                           0   \n",
       "\n",
       "       ROS_PSYCH_HOLD  ROS_US_HOMELAND  ROS_REFERRAL_SCHOOL_ADMIN  \\\n",
       "25223               0                0                          0   \n",
       "25224               0                0                          0   \n",
       "25225               0                0                          0   \n",
       "25226               0                0                          0   \n",
       "25227               0                0                          0   \n",
       "\n",
       "       ROS_REFERRAL_SCHOOL_COUNSELOR  ROS_WARNING_CDS  ROS_CITATION_CDS  \\\n",
       "25223                              0              NaN               NaN   \n",
       "25224                              0              NaN               NaN   \n",
       "25225                              0              NaN               NaN   \n",
       "25226                              0              NaN               NaN   \n",
       "25227                              0              NaN               NaN   \n",
       "\n",
       "       ROS_IN_FIELD_CITE_RELEASE_CDS  ROS_CUSTODIAL_WOUT_WARRANT_CDS  \n",
       "25223                            NaN                             NaN  \n",
       "25224                            NaN                             NaN  \n",
       "25225                            NaN                             NaN  \n",
       "25226                            NaN                             NaN  \n",
       "25227                            NaN                             NaN  \n",
       "\n",
       "[5 rows x 118 columns]"
      ]
     },
     "execution_count": 5,
     "metadata": {},
     "output_type": "execute_result"
    }
   ],
   "source": [
    "# gain insight into 'data_raw'\n",
    "data_raw.tail()"
   ]
  },
  {
   "cell_type": "code",
   "execution_count": 6,
   "id": "7412eb15",
   "metadata": {},
   "outputs": [
    {
     "name": "stdout",
     "output_type": "stream",
     "text": [
      "Index(['DOJ_RECORD_ID', 'PERSON_NUMBER', 'AGENCY_ORI', 'AGENCY_NAME',\n",
      "       'TIME_OF_STOP', 'DATE_OF_STOP', 'STOP_DURATION', 'CLOSEST_CITY',\n",
      "       'SCHOOL_CODE', 'SCHOOL_NAME',\n",
      "       ...\n",
      "       'ROS_NONCRIMINAL_TRANSPORT', 'ROS_CONTACT_LEGAL_GUARDIAN',\n",
      "       'ROS_PSYCH_HOLD', 'ROS_US_HOMELAND', 'ROS_REFERRAL_SCHOOL_ADMIN',\n",
      "       'ROS_REFERRAL_SCHOOL_COUNSELOR', 'ROS_WARNING_CDS', 'ROS_CITATION_CDS',\n",
      "       'ROS_IN_FIELD_CITE_RELEASE_CDS', 'ROS_CUSTODIAL_WOUT_WARRANT_CDS'],\n",
      "      dtype='object', length=118)\n"
     ]
    }
   ],
   "source": [
    "# get 'data_raw' column names\n",
    "print(data_raw.columns)"
   ]
  },
  {
   "cell_type": "code",
   "execution_count": 7,
   "id": "0d343051",
   "metadata": {},
   "outputs": [
    {
     "data": {
      "text/html": [
       "<div>\n",
       "<style scoped>\n",
       "    .dataframe tbody tr th:only-of-type {\n",
       "        vertical-align: middle;\n",
       "    }\n",
       "\n",
       "    .dataframe tbody tr th {\n",
       "        vertical-align: top;\n",
       "    }\n",
       "\n",
       "    .dataframe thead th {\n",
       "        text-align: right;\n",
       "    }\n",
       "</style>\n",
       "<table border=\"1\" class=\"dataframe\">\n",
       "  <thead>\n",
       "    <tr style=\"text-align: right;\">\n",
       "      <th></th>\n",
       "      <th>DOJ_RECORD_ID</th>\n",
       "      <th>PERSON_NUMBER</th>\n",
       "      <th>AGENCY_ORI</th>\n",
       "      <th>AGENCY_NAME</th>\n",
       "      <th>TIME_OF_STOP</th>\n",
       "      <th>DATE_OF_STOP</th>\n",
       "      <th>STOP_DURATION</th>\n",
       "      <th>CLOSEST_CITY</th>\n",
       "      <th>SCHOOL_CODE</th>\n",
       "      <th>SCHOOL_NAME</th>\n",
       "      <th>...</th>\n",
       "      <th>ROS_NONCRIMINAL_TRANSPORT</th>\n",
       "      <th>ROS_CONTACT_LEGAL_GUARDIAN</th>\n",
       "      <th>ROS_PSYCH_HOLD</th>\n",
       "      <th>ROS_US_HOMELAND</th>\n",
       "      <th>ROS_REFERRAL_SCHOOL_ADMIN</th>\n",
       "      <th>ROS_REFERRAL_SCHOOL_COUNSELOR</th>\n",
       "      <th>ROS_WARNING_CDS</th>\n",
       "      <th>ROS_CITATION_CDS</th>\n",
       "      <th>ROS_IN_FIELD_CITE_RELEASE_CDS</th>\n",
       "      <th>ROS_CUSTODIAL_WOUT_WARRANT_CDS</th>\n",
       "    </tr>\n",
       "  </thead>\n",
       "  <tbody>\n",
       "    <tr>\n",
       "      <th>0</th>\n",
       "      <td>S01092009115Y0G48V7P</td>\n",
       "      <td>1</td>\n",
       "      <td>CA0010900</td>\n",
       "      <td>OAKLAND PD</td>\n",
       "      <td>1500</td>\n",
       "      <td>26-JAN-19</td>\n",
       "      <td>10</td>\n",
       "      <td>OAKLAND</td>\n",
       "      <td>NaN</td>\n",
       "      <td>NaN</td>\n",
       "      <td>...</td>\n",
       "      <td>0</td>\n",
       "      <td>0</td>\n",
       "      <td>0</td>\n",
       "      <td>0</td>\n",
       "      <td>0</td>\n",
       "      <td>0</td>\n",
       "      <td>NaN</td>\n",
       "      <td>54011</td>\n",
       "      <td>NaN</td>\n",
       "      <td>NaN</td>\n",
       "    </tr>\n",
       "    <tr>\n",
       "      <th>1</th>\n",
       "      <td>W7110192824A1JIBP56D</td>\n",
       "      <td>1</td>\n",
       "      <td>CA0371100</td>\n",
       "      <td>SAN DIEGO PD</td>\n",
       "      <td>1541</td>\n",
       "      <td>25-JUN-19</td>\n",
       "      <td>5</td>\n",
       "      <td>LA MESA</td>\n",
       "      <td>NaN</td>\n",
       "      <td>NaN</td>\n",
       "      <td>...</td>\n",
       "      <td>0</td>\n",
       "      <td>0</td>\n",
       "      <td>0</td>\n",
       "      <td>0</td>\n",
       "      <td>0</td>\n",
       "      <td>0</td>\n",
       "      <td>NaN</td>\n",
       "      <td>66205</td>\n",
       "      <td>NaN</td>\n",
       "      <td>NaN</td>\n",
       "    </tr>\n",
       "    <tr>\n",
       "      <th>2</th>\n",
       "      <td>S010920091KTGP7LC9K9</td>\n",
       "      <td>1</td>\n",
       "      <td>CA0010900</td>\n",
       "      <td>OAKLAND PD</td>\n",
       "      <td>1616</td>\n",
       "      <td>19-JUN-19</td>\n",
       "      <td>40</td>\n",
       "      <td>OAKLAND</td>\n",
       "      <td>NaN</td>\n",
       "      <td>NaN</td>\n",
       "      <td>...</td>\n",
       "      <td>0</td>\n",
       "      <td>0</td>\n",
       "      <td>0</td>\n",
       "      <td>0</td>\n",
       "      <td>0</td>\n",
       "      <td>0</td>\n",
       "      <td>54566</td>\n",
       "      <td>NaN</td>\n",
       "      <td>NaN</td>\n",
       "      <td>24054, 28035, 50037</td>\n",
       "    </tr>\n",
       "    <tr>\n",
       "      <th>3</th>\n",
       "      <td>S010920091AX0B2XG8RH</td>\n",
       "      <td>1</td>\n",
       "      <td>CA0010900</td>\n",
       "      <td>OAKLAND PD</td>\n",
       "      <td>1824</td>\n",
       "      <td>08-JAN-19</td>\n",
       "      <td>15</td>\n",
       "      <td>OAKLAND</td>\n",
       "      <td>NaN</td>\n",
       "      <td>NaN</td>\n",
       "      <td>...</td>\n",
       "      <td>0</td>\n",
       "      <td>0</td>\n",
       "      <td>0</td>\n",
       "      <td>0</td>\n",
       "      <td>0</td>\n",
       "      <td>0</td>\n",
       "      <td>NaN</td>\n",
       "      <td>NaN</td>\n",
       "      <td>NaN</td>\n",
       "      <td>NaN</td>\n",
       "    </tr>\n",
       "    <tr>\n",
       "      <th>4</th>\n",
       "      <td>S0109200910BGJ8W1GDW</td>\n",
       "      <td>1</td>\n",
       "      <td>CA0010900</td>\n",
       "      <td>OAKLAND PD</td>\n",
       "      <td>2320</td>\n",
       "      <td>02-MAY-19</td>\n",
       "      <td>30</td>\n",
       "      <td>OAKLAND</td>\n",
       "      <td>NaN</td>\n",
       "      <td>NaN</td>\n",
       "      <td>...</td>\n",
       "      <td>0</td>\n",
       "      <td>0</td>\n",
       "      <td>0</td>\n",
       "      <td>0</td>\n",
       "      <td>0</td>\n",
       "      <td>0</td>\n",
       "      <td>NaN</td>\n",
       "      <td>NaN</td>\n",
       "      <td>NaN</td>\n",
       "      <td>22004, 22012</td>\n",
       "    </tr>\n",
       "    <tr>\n",
       "      <th>...</th>\n",
       "      <td>...</td>\n",
       "      <td>...</td>\n",
       "      <td>...</td>\n",
       "      <td>...</td>\n",
       "      <td>...</td>\n",
       "      <td>...</td>\n",
       "      <td>...</td>\n",
       "      <td>...</td>\n",
       "      <td>...</td>\n",
       "      <td>...</td>\n",
       "      <td>...</td>\n",
       "      <td>...</td>\n",
       "      <td>...</td>\n",
       "      <td>...</td>\n",
       "      <td>...</td>\n",
       "      <td>...</td>\n",
       "      <td>...</td>\n",
       "      <td>...</td>\n",
       "      <td>...</td>\n",
       "      <td>...</td>\n",
       "      <td>...</td>\n",
       "    </tr>\n",
       "    <tr>\n",
       "      <th>25223</th>\n",
       "      <td>S010920091UHOEM31J3K</td>\n",
       "      <td>10</td>\n",
       "      <td>CA0010900</td>\n",
       "      <td>OAKLAND PD</td>\n",
       "      <td>744</td>\n",
       "      <td>11-JUL-19</td>\n",
       "      <td>5</td>\n",
       "      <td>OAKLAND</td>\n",
       "      <td>NaN</td>\n",
       "      <td>NaN</td>\n",
       "      <td>...</td>\n",
       "      <td>0</td>\n",
       "      <td>0</td>\n",
       "      <td>0</td>\n",
       "      <td>0</td>\n",
       "      <td>0</td>\n",
       "      <td>0</td>\n",
       "      <td>NaN</td>\n",
       "      <td>NaN</td>\n",
       "      <td>NaN</td>\n",
       "      <td>NaN</td>\n",
       "    </tr>\n",
       "    <tr>\n",
       "      <th>25224</th>\n",
       "      <td>S010920091UAES4F3U24</td>\n",
       "      <td>10</td>\n",
       "      <td>CA0010900</td>\n",
       "      <td>OAKLAND PD</td>\n",
       "      <td>1356</td>\n",
       "      <td>16-APR-19</td>\n",
       "      <td>90</td>\n",
       "      <td>OAKLAND</td>\n",
       "      <td>NaN</td>\n",
       "      <td>NaN</td>\n",
       "      <td>...</td>\n",
       "      <td>0</td>\n",
       "      <td>0</td>\n",
       "      <td>0</td>\n",
       "      <td>0</td>\n",
       "      <td>0</td>\n",
       "      <td>0</td>\n",
       "      <td>NaN</td>\n",
       "      <td>NaN</td>\n",
       "      <td>NaN</td>\n",
       "      <td>NaN</td>\n",
       "    </tr>\n",
       "    <tr>\n",
       "      <th>25225</th>\n",
       "      <td>S010920091DU7B7BPHC4</td>\n",
       "      <td>10</td>\n",
       "      <td>CA0010900</td>\n",
       "      <td>OAKLAND PD</td>\n",
       "      <td>800</td>\n",
       "      <td>23-APR-19</td>\n",
       "      <td>180</td>\n",
       "      <td>OAKLAND</td>\n",
       "      <td>NaN</td>\n",
       "      <td>NaN</td>\n",
       "      <td>...</td>\n",
       "      <td>0</td>\n",
       "      <td>0</td>\n",
       "      <td>0</td>\n",
       "      <td>0</td>\n",
       "      <td>0</td>\n",
       "      <td>0</td>\n",
       "      <td>NaN</td>\n",
       "      <td>NaN</td>\n",
       "      <td>NaN</td>\n",
       "      <td>NaN</td>\n",
       "    </tr>\n",
       "    <tr>\n",
       "      <th>25226</th>\n",
       "      <td>S010920091QI5SSC4D41</td>\n",
       "      <td>10</td>\n",
       "      <td>CA0010900</td>\n",
       "      <td>OAKLAND PD</td>\n",
       "      <td>600</td>\n",
       "      <td>19-SEP-19</td>\n",
       "      <td>60</td>\n",
       "      <td>DUBLIN</td>\n",
       "      <td>NaN</td>\n",
       "      <td>NaN</td>\n",
       "      <td>...</td>\n",
       "      <td>0</td>\n",
       "      <td>0</td>\n",
       "      <td>0</td>\n",
       "      <td>0</td>\n",
       "      <td>0</td>\n",
       "      <td>0</td>\n",
       "      <td>NaN</td>\n",
       "      <td>NaN</td>\n",
       "      <td>NaN</td>\n",
       "      <td>NaN</td>\n",
       "    </tr>\n",
       "    <tr>\n",
       "      <th>25227</th>\n",
       "      <td>S010920091L20OPZFYSR</td>\n",
       "      <td>10</td>\n",
       "      <td>CA0010900</td>\n",
       "      <td>OAKLAND PD</td>\n",
       "      <td>9</td>\n",
       "      <td>23-FEB-19</td>\n",
       "      <td>120</td>\n",
       "      <td>OAKLAND</td>\n",
       "      <td>NaN</td>\n",
       "      <td>NaN</td>\n",
       "      <td>...</td>\n",
       "      <td>0</td>\n",
       "      <td>0</td>\n",
       "      <td>0</td>\n",
       "      <td>0</td>\n",
       "      <td>0</td>\n",
       "      <td>0</td>\n",
       "      <td>NaN</td>\n",
       "      <td>NaN</td>\n",
       "      <td>NaN</td>\n",
       "      <td>NaN</td>\n",
       "    </tr>\n",
       "  </tbody>\n",
       "</table>\n",
       "<p>25228 rows × 118 columns</p>\n",
       "</div>"
      ],
      "text/plain": [
       "              DOJ_RECORD_ID  PERSON_NUMBER AGENCY_ORI   AGENCY_NAME  \\\n",
       "0      S01092009115Y0G48V7P              1  CA0010900    OAKLAND PD   \n",
       "1      W7110192824A1JIBP56D              1  CA0371100  SAN DIEGO PD   \n",
       "2      S010920091KTGP7LC9K9              1  CA0010900    OAKLAND PD   \n",
       "3      S010920091AX0B2XG8RH              1  CA0010900    OAKLAND PD   \n",
       "4      S0109200910BGJ8W1GDW              1  CA0010900    OAKLAND PD   \n",
       "...                     ...            ...        ...           ...   \n",
       "25223  S010920091UHOEM31J3K             10  CA0010900    OAKLAND PD   \n",
       "25224  S010920091UAES4F3U24             10  CA0010900    OAKLAND PD   \n",
       "25225  S010920091DU7B7BPHC4             10  CA0010900    OAKLAND PD   \n",
       "25226  S010920091QI5SSC4D41             10  CA0010900    OAKLAND PD   \n",
       "25227  S010920091L20OPZFYSR             10  CA0010900    OAKLAND PD   \n",
       "\n",
       "       TIME_OF_STOP DATE_OF_STOP  STOP_DURATION CLOSEST_CITY  SCHOOL_CODE  \\\n",
       "0              1500    26-JAN-19             10      OAKLAND          NaN   \n",
       "1              1541    25-JUN-19              5      LA MESA          NaN   \n",
       "2              1616    19-JUN-19             40      OAKLAND          NaN   \n",
       "3              1824    08-JAN-19             15      OAKLAND          NaN   \n",
       "4              2320    02-MAY-19             30      OAKLAND          NaN   \n",
       "...             ...          ...            ...          ...          ...   \n",
       "25223           744    11-JUL-19              5      OAKLAND          NaN   \n",
       "25224          1356    16-APR-19             90      OAKLAND          NaN   \n",
       "25225           800    23-APR-19            180      OAKLAND          NaN   \n",
       "25226           600    19-SEP-19             60       DUBLIN          NaN   \n",
       "25227             9    23-FEB-19            120      OAKLAND          NaN   \n",
       "\n",
       "      SCHOOL_NAME  ...  ROS_NONCRIMINAL_TRANSPORT  ROS_CONTACT_LEGAL_GUARDIAN  \\\n",
       "0             NaN  ...                          0                           0   \n",
       "1             NaN  ...                          0                           0   \n",
       "2             NaN  ...                          0                           0   \n",
       "3             NaN  ...                          0                           0   \n",
       "4             NaN  ...                          0                           0   \n",
       "...           ...  ...                        ...                         ...   \n",
       "25223         NaN  ...                          0                           0   \n",
       "25224         NaN  ...                          0                           0   \n",
       "25225         NaN  ...                          0                           0   \n",
       "25226         NaN  ...                          0                           0   \n",
       "25227         NaN  ...                          0                           0   \n",
       "\n",
       "       ROS_PSYCH_HOLD  ROS_US_HOMELAND  ROS_REFERRAL_SCHOOL_ADMIN  \\\n",
       "0                   0                0                          0   \n",
       "1                   0                0                          0   \n",
       "2                   0                0                          0   \n",
       "3                   0                0                          0   \n",
       "4                   0                0                          0   \n",
       "...               ...              ...                        ...   \n",
       "25223               0                0                          0   \n",
       "25224               0                0                          0   \n",
       "25225               0                0                          0   \n",
       "25226               0                0                          0   \n",
       "25227               0                0                          0   \n",
       "\n",
       "       ROS_REFERRAL_SCHOOL_COUNSELOR  ROS_WARNING_CDS  ROS_CITATION_CDS  \\\n",
       "0                                  0              NaN             54011   \n",
       "1                                  0              NaN             66205   \n",
       "2                                  0            54566               NaN   \n",
       "3                                  0              NaN               NaN   \n",
       "4                                  0              NaN               NaN   \n",
       "...                              ...              ...               ...   \n",
       "25223                              0              NaN               NaN   \n",
       "25224                              0              NaN               NaN   \n",
       "25225                              0              NaN               NaN   \n",
       "25226                              0              NaN               NaN   \n",
       "25227                              0              NaN               NaN   \n",
       "\n",
       "       ROS_IN_FIELD_CITE_RELEASE_CDS  ROS_CUSTODIAL_WOUT_WARRANT_CDS  \n",
       "0                                NaN                             NaN  \n",
       "1                                NaN                             NaN  \n",
       "2                                NaN             24054, 28035, 50037  \n",
       "3                                NaN                             NaN  \n",
       "4                                NaN                    22004, 22012  \n",
       "...                              ...                             ...  \n",
       "25223                            NaN                             NaN  \n",
       "25224                            NaN                             NaN  \n",
       "25225                            NaN                             NaN  \n",
       "25226                            NaN                             NaN  \n",
       "25227                            NaN                             NaN  \n",
       "\n",
       "[25228 rows x 118 columns]"
      ]
     },
     "execution_count": 7,
     "metadata": {},
     "output_type": "execute_result"
    }
   ],
   "source": [
    "# check for duplicate rows and drop them\n",
    "data_raw.drop_duplicates()"
   ]
  },
  {
   "cell_type": "code",
   "execution_count": 8,
   "id": "5a76cf2d",
   "metadata": {},
   "outputs": [
    {
     "data": {
      "text/plain": [
       "10"
      ]
     },
     "execution_count": 8,
     "metadata": {},
     "output_type": "execute_result"
    }
   ],
   "source": [
    "# check for recurring instances in 'dta_raw' of 'PERSON_NUMBER' (unique system-generated person identification number) to see \n",
    "    ## if there are any instances of the same person being stopped more than once by an agency in the studied time period \n",
    "    ## (Jan. 1, 2019 - Dec. 31, 2019)\n",
    "data_raw['PERSON_NUMBER'].nunique() \n",
    "\n",
    "# only 10 unique 'PERSON_NUMBER' but 25228 police stop incidents, therefore this is clearly an error in the recording of the data\n",
    "    \n",
    "    ## NOTE: The fact that the \"PERSON_NUMBER\" has not been properly included in this dataset serves as a\n",
    "        ##   limitation to the analysis.  In order to enrich future studies, proper recording of 'PERSONAL_NUMBER'\n",
    "        ##   is highly recommended. "
   ]
  },
  {
   "cell_type": "code",
   "execution_count": 9,
   "id": "38550e3f",
   "metadata": {},
   "outputs": [
    {
     "data": {
      "text/plain": [
       "21820"
      ]
     },
     "execution_count": 9,
     "metadata": {},
     "output_type": "execute_result"
    }
   ],
   "source": [
    "# check for recurring instances in 'data_raw' of 'DOJ_RECORD_ID' (unique system-generated incident identification number) \n",
    "    ## to see if there are any instances of agency stop incident recording error in the studied time period\n",
    "    ## (Jan. 1, 2019 - Dec. 31, 2019)\n",
    "data_raw['DOJ_RECORD_ID'].nunique() \n",
    "\n",
    "# only 21820 'DOJ_RECORD_ID' but 25228 police stop incidents, therefore this is clearly an error in the recording of the data\n",
    "    \n",
    "    ## NOTE: There has been some sort of error in the recording of the 'DOJ_RECORD_ID'.  Either: \n",
    "        ## 1) some police stop incident have not been assigned a 'DOJ_RECORD_ID', or\n",
    "        ## 2) some police stop incident have been assigned with the same 'DOJ_RECORD_ID'"
   ]
  },
  {
   "cell_type": "code",
   "execution_count": 10,
   "id": "5ab311b7",
   "metadata": {},
   "outputs": [
    {
     "data": {
      "text/plain": [
       "0"
      ]
     },
     "execution_count": 10,
     "metadata": {},
     "output_type": "execute_result"
    }
   ],
   "source": [
    "# check in 'data_raw' for instances where 'DOJ_RECORD_ID' is not listed\n",
    "data_raw['DOJ_RECORD_ID'].isnull().sum()\n",
    "\n",
    "# 0 police stop incident record lack a 'DOJ_RECORD_ID' value"
   ]
  },
  {
   "cell_type": "code",
   "execution_count": 11,
   "id": "8823e526",
   "metadata": {},
   "outputs": [
    {
     "name": "stdout",
     "output_type": "stream",
     "text": [
      "2402\n"
     ]
    }
   ],
   "source": [
    "# check in 'data_raw' for instances of duplicated 'DOJ_RECORD_ID'\n",
    "values = data_raw['DOJ_RECORD_ID'].value_counts()\n",
    "values = values[values > 1].index.tolist()\n",
    "print(len(values))\n",
    "\n",
    "# 2402 'DOJ_RECORD_ID' values appear more than once in 'data_raw'\n",
    "\n",
    "    ## NOTE: There must be an error in the 'DOJ_RECORD_ID' recording.  Per the RIPA DATA DOCUMENTATION, \n",
    "        ## 'DOJ_RECORD_ID' is supposed to represent a \"unique system-generated incident identification number\", \n",
    "        ## thus each of the 25228 police stop incidents should have its own unique 'DOJ_RECORD_ID'. The fact that \n",
    "        ## duplicate instances of this ID exist is a problematic.  It is important to re-assign a unique\n",
    "        ## ID to each instance for further analysis (LIMITATION)."
   ]
  },
  {
   "cell_type": "markdown",
   "id": "ec858036",
   "metadata": {},
   "source": [
    "#### 0.1 Perceived Race / Ethnicity Data Understanding"
   ]
  },
  {
   "cell_type": "markdown",
   "id": "8170d8a4",
   "metadata": {},
   "source": [
    "Where the RIPA Data Documentation Code 'RAE_FULL' (i.e., perceived race or ethnicity) data values as follows:\n",
    "\n",
    "* 1 = Asian\n",
    "* 2 = Black / African American\n",
    "* 3 = Hispanic / Latino\n",
    "* 4 = Middle Eastern / South Asian\n",
    "* 5 = Native American\n",
    "* 6 = Pacific Islander\n",
    "* 7 = White\n",
    "* 8 = Multiracial"
   ]
  },
  {
   "cell_type": "code",
   "execution_count": 12,
   "id": "4bbc9de0",
   "metadata": {},
   "outputs": [
    {
     "data": {
      "text/html": [
       "<div>\n",
       "<style scoped>\n",
       "    .dataframe tbody tr th:only-of-type {\n",
       "        vertical-align: middle;\n",
       "    }\n",
       "\n",
       "    .dataframe tbody tr th {\n",
       "        vertical-align: top;\n",
       "    }\n",
       "\n",
       "    .dataframe thead th {\n",
       "        text-align: right;\n",
       "    }\n",
       "</style>\n",
       "<table border=\"1\" class=\"dataframe\">\n",
       "  <thead>\n",
       "    <tr style=\"text-align: right;\">\n",
       "      <th></th>\n",
       "      <th>DOJ_RECORD_ID</th>\n",
       "      <th>PERSON_NUMBER</th>\n",
       "      <th>AGENCY_ORI</th>\n",
       "      <th>AGENCY_NAME</th>\n",
       "      <th>TIME_OF_STOP</th>\n",
       "      <th>DATE_OF_STOP</th>\n",
       "      <th>STOP_DURATION</th>\n",
       "      <th>CLOSEST_CITY</th>\n",
       "      <th>SCHOOL_CODE</th>\n",
       "      <th>SCHOOL_NAME</th>\n",
       "      <th>...</th>\n",
       "      <th>ROS_NONCRIMINAL_TRANSPORT</th>\n",
       "      <th>ROS_CONTACT_LEGAL_GUARDIAN</th>\n",
       "      <th>ROS_PSYCH_HOLD</th>\n",
       "      <th>ROS_US_HOMELAND</th>\n",
       "      <th>ROS_REFERRAL_SCHOOL_ADMIN</th>\n",
       "      <th>ROS_REFERRAL_SCHOOL_COUNSELOR</th>\n",
       "      <th>ROS_WARNING_CDS</th>\n",
       "      <th>ROS_CITATION_CDS</th>\n",
       "      <th>ROS_IN_FIELD_CITE_RELEASE_CDS</th>\n",
       "      <th>ROS_CUSTODIAL_WOUT_WARRANT_CDS</th>\n",
       "    </tr>\n",
       "  </thead>\n",
       "  <tbody>\n",
       "  </tbody>\n",
       "</table>\n",
       "<p>0 rows × 118 columns</p>\n",
       "</div>"
      ],
      "text/plain": [
       "Empty DataFrame\n",
       "Columns: [DOJ_RECORD_ID, PERSON_NUMBER, AGENCY_ORI, AGENCY_NAME, TIME_OF_STOP, DATE_OF_STOP, STOP_DURATION, CLOSEST_CITY, SCHOOL_CODE, SCHOOL_NAME, STOP_STUDENT, K12_SCHOOL_GROUNDS, RAE_FULL, G_FULL, LGBT, AGE, LIMITED_ENGLISH_FLUENCY, PD_FULL, REASON_FOR_STOP, RFS_TRAFFIC_VIOLATION_TYPE, RFS_TRAFFIC_VIOLATION_CODE, RFS_RS_CODE, RFS_RS_OFF_WITNESS, RFS_RS_MATCH_SUSPECT, RFS_RS_WITNESS_ID, RFS_RS_CARRY_SUS_OBJECT, RFS_RS_ACTIONS_INDICATIVE, RFS_RS_SUSPECT_LOOK, RFS_RS_DRUG_TRANS, RFS_RS_VIOLENT_CRIME, RFS_RS_REASON_SUSP, RFS_EC_DISCIPLINE_CODE, RFS_EC_DISCIPLINE, CALL_FOR_SERVICE, ADS_REMOVED_VEHICLE_ORDER, ADS_REMOVED_VEHICLE_PHYCONTACT, ADS_SOBRIETY_TEST, ADS_CURB_DETENT, ADS_HANDCUFFED, ADS_PATCAR_DETENT, ADS_CANINE_SEARCH, ADS_FIREARM_POINT, ADS_FIREARM_DISCHARGE, ADS_ELECT_DEVICE, ADS_IMPACT_DISCHARGE, ADS_CANINE_BITE, ADS_BATON, ADS_CHEM_SPRAY, ADS_OTHER_CONTACT, ADS_PHOTO, ADS_ASKED_SEARCH_PER, ADS_SEARCH_PERSON, ADS_ASKED_SEARCH_PROP, ADS_SEARCH_PROPERTY, ADS_PROP_SEIZE, ADS_VEHICLE_IMPOUND, ADS_WRITTEN_STATEMENT, ADS_NO_ACTIONS, ADS_SEARCH_PERS_CONSEN, ADS_SEARCH_PROP_CONSEN, BFS_CONSENT_GIVEN, BFS_OFFICER_SAFETY, BFS_SEARCH_WARRANT, BFS_PAROLE, BFS_SUSPECT_WEAPON, BFS_VISIBLE_CONTRABAND, BFS_ODOR_CONTRABAND, BFS_CANINE_DETECT, BFS_EVIDENCE, BFS_INCIDENT, BFS_EXIGENT_CIRCUM, BFS_VEHICLE_INVENT, BFS_SCHOOL_POLICY, CED_NONE_CONTRABAND, CED_FIREARM, CED_AMMUNITION, CED_WEAPON, CED_DRUGS, CED_ALCOHOL, CED_MONEY, CED_DRUG_PARAPHERNALIA, CED_STOLEN_PROP, CED_ELECT_DEVICE, CED_OTHER_CONTRABAND, BPS_SAFEKEEPING, BPS_CONTRABAND, BPS_EVIDENCE, BPS_IMPOUND_VEHICLE, BPS_ABANDON_PROP, BPS_VIOLATE_SCHOOL, TPS_FIREARM, TPS_AMMUNITION, TPS_WEAPON, TPS_DRUGS, TPS_ALCOHOL, TPS_MONEY, TPS_DRUG_PARAPHERNALIA, TPS_STOLEN_PROP, TPS_CELLPHONE, TPS_VEHICLE, ...]\n",
       "Index: []\n",
       "\n",
       "[0 rows x 118 columns]"
      ]
     },
     "execution_count": 12,
     "metadata": {},
     "output_type": "execute_result"
    }
   ],
   "source": [
    "# check for NAN values related to 'RAE_FULL' (i.e., perceived race / ethnicity) in 'data_raw'\n",
    "data_raw[data_raw['RAE_FULL'].isna()==True]"
   ]
  },
  {
   "cell_type": "code",
   "execution_count": 13,
   "id": "83b7514c",
   "metadata": {},
   "outputs": [
    {
     "data": {
      "text/plain": [
       "array([7, 2, 3, 4, 1, 8, 6, 5], dtype=int64)"
      ]
     },
     "execution_count": 13,
     "metadata": {},
     "output_type": "execute_result"
    }
   ],
   "source": [
    "# check coding of 'RAE_FULL' (i.e., perceived race / ethnicity) in 'data_raw'\n",
    "data_raw['RAE_FULL'].unique()"
   ]
  },
  {
   "cell_type": "code",
   "execution_count": 14,
   "id": "9b0403b5",
   "metadata": {},
   "outputs": [
    {
     "data": {
      "text/plain": [
       "2    12998\n",
       "3     6287\n",
       "7     3586\n",
       "1     1204\n",
       "4      659\n",
       "8      284\n",
       "6      181\n",
       "5       29\n",
       "Name: RAE_FULL, dtype: int64"
      ]
     },
     "execution_count": 14,
     "metadata": {},
     "output_type": "execute_result"
    }
   ],
   "source": [
    "# check count of police stop incidents per 'RAE_FULL' (i.e., perceived race / ethnicity) type in 'data_raw'\n",
    "data_raw['RAE_FULL'].value_counts()"
   ]
  },
  {
   "cell_type": "markdown",
   "id": "be374bad",
   "metadata": {},
   "source": [
    "#### 0.2 Perceived Gender Data Understanding"
   ]
  },
  {
   "cell_type": "markdown",
   "id": "56964b8f",
   "metadata": {},
   "source": [
    "Where the RIPA Data Documentation Code 'G_FULL' (i.e., perceived gender) data values as follows:\n",
    "\n",
    "* 1 = Male\n",
    "* 2 = Female\n",
    "* 3 = Transgender Man / Boy\n",
    "* 4 = Transgender Woman / Girl\n",
    "* 5 = Gender Nonconforming"
   ]
  },
  {
   "cell_type": "code",
   "execution_count": 15,
   "id": "8c69c794",
   "metadata": {},
   "outputs": [
    {
     "data": {
      "text/html": [
       "<div>\n",
       "<style scoped>\n",
       "    .dataframe tbody tr th:only-of-type {\n",
       "        vertical-align: middle;\n",
       "    }\n",
       "\n",
       "    .dataframe tbody tr th {\n",
       "        vertical-align: top;\n",
       "    }\n",
       "\n",
       "    .dataframe thead th {\n",
       "        text-align: right;\n",
       "    }\n",
       "</style>\n",
       "<table border=\"1\" class=\"dataframe\">\n",
       "  <thead>\n",
       "    <tr style=\"text-align: right;\">\n",
       "      <th></th>\n",
       "      <th>DOJ_RECORD_ID</th>\n",
       "      <th>PERSON_NUMBER</th>\n",
       "      <th>AGENCY_ORI</th>\n",
       "      <th>AGENCY_NAME</th>\n",
       "      <th>TIME_OF_STOP</th>\n",
       "      <th>DATE_OF_STOP</th>\n",
       "      <th>STOP_DURATION</th>\n",
       "      <th>CLOSEST_CITY</th>\n",
       "      <th>SCHOOL_CODE</th>\n",
       "      <th>SCHOOL_NAME</th>\n",
       "      <th>...</th>\n",
       "      <th>ROS_NONCRIMINAL_TRANSPORT</th>\n",
       "      <th>ROS_CONTACT_LEGAL_GUARDIAN</th>\n",
       "      <th>ROS_PSYCH_HOLD</th>\n",
       "      <th>ROS_US_HOMELAND</th>\n",
       "      <th>ROS_REFERRAL_SCHOOL_ADMIN</th>\n",
       "      <th>ROS_REFERRAL_SCHOOL_COUNSELOR</th>\n",
       "      <th>ROS_WARNING_CDS</th>\n",
       "      <th>ROS_CITATION_CDS</th>\n",
       "      <th>ROS_IN_FIELD_CITE_RELEASE_CDS</th>\n",
       "      <th>ROS_CUSTODIAL_WOUT_WARRANT_CDS</th>\n",
       "    </tr>\n",
       "  </thead>\n",
       "  <tbody>\n",
       "  </tbody>\n",
       "</table>\n",
       "<p>0 rows × 118 columns</p>\n",
       "</div>"
      ],
      "text/plain": [
       "Empty DataFrame\n",
       "Columns: [DOJ_RECORD_ID, PERSON_NUMBER, AGENCY_ORI, AGENCY_NAME, TIME_OF_STOP, DATE_OF_STOP, STOP_DURATION, CLOSEST_CITY, SCHOOL_CODE, SCHOOL_NAME, STOP_STUDENT, K12_SCHOOL_GROUNDS, RAE_FULL, G_FULL, LGBT, AGE, LIMITED_ENGLISH_FLUENCY, PD_FULL, REASON_FOR_STOP, RFS_TRAFFIC_VIOLATION_TYPE, RFS_TRAFFIC_VIOLATION_CODE, RFS_RS_CODE, RFS_RS_OFF_WITNESS, RFS_RS_MATCH_SUSPECT, RFS_RS_WITNESS_ID, RFS_RS_CARRY_SUS_OBJECT, RFS_RS_ACTIONS_INDICATIVE, RFS_RS_SUSPECT_LOOK, RFS_RS_DRUG_TRANS, RFS_RS_VIOLENT_CRIME, RFS_RS_REASON_SUSP, RFS_EC_DISCIPLINE_CODE, RFS_EC_DISCIPLINE, CALL_FOR_SERVICE, ADS_REMOVED_VEHICLE_ORDER, ADS_REMOVED_VEHICLE_PHYCONTACT, ADS_SOBRIETY_TEST, ADS_CURB_DETENT, ADS_HANDCUFFED, ADS_PATCAR_DETENT, ADS_CANINE_SEARCH, ADS_FIREARM_POINT, ADS_FIREARM_DISCHARGE, ADS_ELECT_DEVICE, ADS_IMPACT_DISCHARGE, ADS_CANINE_BITE, ADS_BATON, ADS_CHEM_SPRAY, ADS_OTHER_CONTACT, ADS_PHOTO, ADS_ASKED_SEARCH_PER, ADS_SEARCH_PERSON, ADS_ASKED_SEARCH_PROP, ADS_SEARCH_PROPERTY, ADS_PROP_SEIZE, ADS_VEHICLE_IMPOUND, ADS_WRITTEN_STATEMENT, ADS_NO_ACTIONS, ADS_SEARCH_PERS_CONSEN, ADS_SEARCH_PROP_CONSEN, BFS_CONSENT_GIVEN, BFS_OFFICER_SAFETY, BFS_SEARCH_WARRANT, BFS_PAROLE, BFS_SUSPECT_WEAPON, BFS_VISIBLE_CONTRABAND, BFS_ODOR_CONTRABAND, BFS_CANINE_DETECT, BFS_EVIDENCE, BFS_INCIDENT, BFS_EXIGENT_CIRCUM, BFS_VEHICLE_INVENT, BFS_SCHOOL_POLICY, CED_NONE_CONTRABAND, CED_FIREARM, CED_AMMUNITION, CED_WEAPON, CED_DRUGS, CED_ALCOHOL, CED_MONEY, CED_DRUG_PARAPHERNALIA, CED_STOLEN_PROP, CED_ELECT_DEVICE, CED_OTHER_CONTRABAND, BPS_SAFEKEEPING, BPS_CONTRABAND, BPS_EVIDENCE, BPS_IMPOUND_VEHICLE, BPS_ABANDON_PROP, BPS_VIOLATE_SCHOOL, TPS_FIREARM, TPS_AMMUNITION, TPS_WEAPON, TPS_DRUGS, TPS_ALCOHOL, TPS_MONEY, TPS_DRUG_PARAPHERNALIA, TPS_STOLEN_PROP, TPS_CELLPHONE, TPS_VEHICLE, ...]\n",
       "Index: []\n",
       "\n",
       "[0 rows x 118 columns]"
      ]
     },
     "execution_count": 15,
     "metadata": {},
     "output_type": "execute_result"
    }
   ],
   "source": [
    "# check for NAN values related to 'G_FULL' (i.e., perceived gender) in 'data_raw'\n",
    "data_raw[data_raw['G_FULL'].isna()==True]"
   ]
  },
  {
   "cell_type": "code",
   "execution_count": 16,
   "id": "87bc4066",
   "metadata": {},
   "outputs": [
    {
     "data": {
      "text/plain": [
       "array([ 1,  2,  5, 99,  3,  4], dtype=int64)"
      ]
     },
     "execution_count": 16,
     "metadata": {},
     "output_type": "execute_result"
    }
   ],
   "source": [
    "# check coding of 'G_FULL' (i.e., perceived gender) in 'data_raw'\n",
    "data_raw['G_FULL'].unique()\n",
    "\n",
    "    ## NOTE: ERROR found in data - according to the RIPA DATA Documentation, \n",
    "        ## '99' is not a coded type of perceived gender (only '1', '2', '3', '4', and '5' are options for coded data)"
   ]
  },
  {
   "cell_type": "code",
   "execution_count": 17,
   "id": "2a32240e",
   "metadata": {},
   "outputs": [
    {
     "data": {
      "text/plain": [
       "1     17838\n",
       "2      7331\n",
       "5        20\n",
       "99       13\n",
       "3        13\n",
       "4        13\n",
       "Name: G_FULL, dtype: int64"
      ]
     },
     "execution_count": 17,
     "metadata": {},
     "output_type": "execute_result"
    }
   ],
   "source": [
    "# check count of police stop incidents per 'G_FULL' (i.e., perceived gender) type in 'data_raw'\n",
    "    ## and check number of times that the '99' ERROR in 'G-FULL' (i.e., perceived gender) occurs in 'data_raw'\n",
    "data_raw['G_FULL'].value_counts()\n",
    "\n",
    "# '99' ERROR shows up 13 times in dataset, therefore 13 police incidents stops cannot be accounted for when considering perceived gender (LIMITATION)\n",
    "    ## MUST correct for '99' ERROR by recoding '99' in 'data_raw' 'G_FULL' to 'unidentified'"
   ]
  },
  {
   "cell_type": "markdown",
   "id": "4029b7bb",
   "metadata": {},
   "source": [
    "#### 0.3 Perceived LGBT Data Understanding"
   ]
  },
  {
   "cell_type": "markdown",
   "id": "50f298d9",
   "metadata": {},
   "source": [
    "Where the RIPA Data Documentation Code 'LGBT' (i.e., perceived LGBT identity) data values as follows:\n",
    "\n",
    "* 1 = Not LGBT\n",
    "* 2 = LGBT"
   ]
  },
  {
   "cell_type": "code",
   "execution_count": 18,
   "id": "35b8145e",
   "metadata": {},
   "outputs": [
    {
     "data": {
      "text/html": [
       "<div>\n",
       "<style scoped>\n",
       "    .dataframe tbody tr th:only-of-type {\n",
       "        vertical-align: middle;\n",
       "    }\n",
       "\n",
       "    .dataframe tbody tr th {\n",
       "        vertical-align: top;\n",
       "    }\n",
       "\n",
       "    .dataframe thead th {\n",
       "        text-align: right;\n",
       "    }\n",
       "</style>\n",
       "<table border=\"1\" class=\"dataframe\">\n",
       "  <thead>\n",
       "    <tr style=\"text-align: right;\">\n",
       "      <th></th>\n",
       "      <th>DOJ_RECORD_ID</th>\n",
       "      <th>PERSON_NUMBER</th>\n",
       "      <th>AGENCY_ORI</th>\n",
       "      <th>AGENCY_NAME</th>\n",
       "      <th>TIME_OF_STOP</th>\n",
       "      <th>DATE_OF_STOP</th>\n",
       "      <th>STOP_DURATION</th>\n",
       "      <th>CLOSEST_CITY</th>\n",
       "      <th>SCHOOL_CODE</th>\n",
       "      <th>SCHOOL_NAME</th>\n",
       "      <th>...</th>\n",
       "      <th>ROS_NONCRIMINAL_TRANSPORT</th>\n",
       "      <th>ROS_CONTACT_LEGAL_GUARDIAN</th>\n",
       "      <th>ROS_PSYCH_HOLD</th>\n",
       "      <th>ROS_US_HOMELAND</th>\n",
       "      <th>ROS_REFERRAL_SCHOOL_ADMIN</th>\n",
       "      <th>ROS_REFERRAL_SCHOOL_COUNSELOR</th>\n",
       "      <th>ROS_WARNING_CDS</th>\n",
       "      <th>ROS_CITATION_CDS</th>\n",
       "      <th>ROS_IN_FIELD_CITE_RELEASE_CDS</th>\n",
       "      <th>ROS_CUSTODIAL_WOUT_WARRANT_CDS</th>\n",
       "    </tr>\n",
       "  </thead>\n",
       "  <tbody>\n",
       "  </tbody>\n",
       "</table>\n",
       "<p>0 rows × 118 columns</p>\n",
       "</div>"
      ],
      "text/plain": [
       "Empty DataFrame\n",
       "Columns: [DOJ_RECORD_ID, PERSON_NUMBER, AGENCY_ORI, AGENCY_NAME, TIME_OF_STOP, DATE_OF_STOP, STOP_DURATION, CLOSEST_CITY, SCHOOL_CODE, SCHOOL_NAME, STOP_STUDENT, K12_SCHOOL_GROUNDS, RAE_FULL, G_FULL, LGBT, AGE, LIMITED_ENGLISH_FLUENCY, PD_FULL, REASON_FOR_STOP, RFS_TRAFFIC_VIOLATION_TYPE, RFS_TRAFFIC_VIOLATION_CODE, RFS_RS_CODE, RFS_RS_OFF_WITNESS, RFS_RS_MATCH_SUSPECT, RFS_RS_WITNESS_ID, RFS_RS_CARRY_SUS_OBJECT, RFS_RS_ACTIONS_INDICATIVE, RFS_RS_SUSPECT_LOOK, RFS_RS_DRUG_TRANS, RFS_RS_VIOLENT_CRIME, RFS_RS_REASON_SUSP, RFS_EC_DISCIPLINE_CODE, RFS_EC_DISCIPLINE, CALL_FOR_SERVICE, ADS_REMOVED_VEHICLE_ORDER, ADS_REMOVED_VEHICLE_PHYCONTACT, ADS_SOBRIETY_TEST, ADS_CURB_DETENT, ADS_HANDCUFFED, ADS_PATCAR_DETENT, ADS_CANINE_SEARCH, ADS_FIREARM_POINT, ADS_FIREARM_DISCHARGE, ADS_ELECT_DEVICE, ADS_IMPACT_DISCHARGE, ADS_CANINE_BITE, ADS_BATON, ADS_CHEM_SPRAY, ADS_OTHER_CONTACT, ADS_PHOTO, ADS_ASKED_SEARCH_PER, ADS_SEARCH_PERSON, ADS_ASKED_SEARCH_PROP, ADS_SEARCH_PROPERTY, ADS_PROP_SEIZE, ADS_VEHICLE_IMPOUND, ADS_WRITTEN_STATEMENT, ADS_NO_ACTIONS, ADS_SEARCH_PERS_CONSEN, ADS_SEARCH_PROP_CONSEN, BFS_CONSENT_GIVEN, BFS_OFFICER_SAFETY, BFS_SEARCH_WARRANT, BFS_PAROLE, BFS_SUSPECT_WEAPON, BFS_VISIBLE_CONTRABAND, BFS_ODOR_CONTRABAND, BFS_CANINE_DETECT, BFS_EVIDENCE, BFS_INCIDENT, BFS_EXIGENT_CIRCUM, BFS_VEHICLE_INVENT, BFS_SCHOOL_POLICY, CED_NONE_CONTRABAND, CED_FIREARM, CED_AMMUNITION, CED_WEAPON, CED_DRUGS, CED_ALCOHOL, CED_MONEY, CED_DRUG_PARAPHERNALIA, CED_STOLEN_PROP, CED_ELECT_DEVICE, CED_OTHER_CONTRABAND, BPS_SAFEKEEPING, BPS_CONTRABAND, BPS_EVIDENCE, BPS_IMPOUND_VEHICLE, BPS_ABANDON_PROP, BPS_VIOLATE_SCHOOL, TPS_FIREARM, TPS_AMMUNITION, TPS_WEAPON, TPS_DRUGS, TPS_ALCOHOL, TPS_MONEY, TPS_DRUG_PARAPHERNALIA, TPS_STOLEN_PROP, TPS_CELLPHONE, TPS_VEHICLE, ...]\n",
       "Index: []\n",
       "\n",
       "[0 rows x 118 columns]"
      ]
     },
     "execution_count": 18,
     "metadata": {},
     "output_type": "execute_result"
    }
   ],
   "source": [
    "# check for NAN values related to perceived LGBT\n",
    "data_raw[data_raw['LGBT'].isna()==True]"
   ]
  },
  {
   "cell_type": "code",
   "execution_count": 19,
   "id": "5796be00",
   "metadata": {},
   "outputs": [
    {
     "data": {
      "text/plain": [
       "array([0, 1], dtype=int64)"
      ]
     },
     "execution_count": 19,
     "metadata": {},
     "output_type": "execute_result"
    }
   ],
   "source": [
    "# check coding of 'LGBT' (i.e., perceived LGBT identity) in 'data_raw'\n",
    "data_raw['LGBT'].unique()"
   ]
  },
  {
   "cell_type": "code",
   "execution_count": 20,
   "id": "688fdd09",
   "metadata": {},
   "outputs": [
    {
     "data": {
      "text/plain": [
       "0    25050\n",
       "1      178\n",
       "Name: LGBT, dtype: int64"
      ]
     },
     "execution_count": 20,
     "metadata": {},
     "output_type": "execute_result"
    }
   ],
   "source": [
    "# check count of police stop incidents per 'LGBT' (i.e., perceived LGBT identity) type in 'data_raw'\n",
    "data_raw['LGBT'].value_counts()"
   ]
  },
  {
   "cell_type": "markdown",
   "id": "060ef8ea",
   "metadata": {},
   "source": [
    "#### 0.4 Perceived Age Data Understanding"
   ]
  },
  {
   "cell_type": "markdown",
   "id": "e4e2ad86",
   "metadata": {},
   "source": [
    "Where the RIPA Data Documentation Code 'AGE' (i.e., perceived age) data values as follows:\n",
    "\n",
    "* Alpha- numeric"
   ]
  },
  {
   "cell_type": "code",
   "execution_count": 21,
   "id": "05c3981f",
   "metadata": {},
   "outputs": [
    {
     "data": {
      "text/html": [
       "<div>\n",
       "<style scoped>\n",
       "    .dataframe tbody tr th:only-of-type {\n",
       "        vertical-align: middle;\n",
       "    }\n",
       "\n",
       "    .dataframe tbody tr th {\n",
       "        vertical-align: top;\n",
       "    }\n",
       "\n",
       "    .dataframe thead th {\n",
       "        text-align: right;\n",
       "    }\n",
       "</style>\n",
       "<table border=\"1\" class=\"dataframe\">\n",
       "  <thead>\n",
       "    <tr style=\"text-align: right;\">\n",
       "      <th></th>\n",
       "      <th>DOJ_RECORD_ID</th>\n",
       "      <th>PERSON_NUMBER</th>\n",
       "      <th>AGENCY_ORI</th>\n",
       "      <th>AGENCY_NAME</th>\n",
       "      <th>TIME_OF_STOP</th>\n",
       "      <th>DATE_OF_STOP</th>\n",
       "      <th>STOP_DURATION</th>\n",
       "      <th>CLOSEST_CITY</th>\n",
       "      <th>SCHOOL_CODE</th>\n",
       "      <th>SCHOOL_NAME</th>\n",
       "      <th>...</th>\n",
       "      <th>ROS_NONCRIMINAL_TRANSPORT</th>\n",
       "      <th>ROS_CONTACT_LEGAL_GUARDIAN</th>\n",
       "      <th>ROS_PSYCH_HOLD</th>\n",
       "      <th>ROS_US_HOMELAND</th>\n",
       "      <th>ROS_REFERRAL_SCHOOL_ADMIN</th>\n",
       "      <th>ROS_REFERRAL_SCHOOL_COUNSELOR</th>\n",
       "      <th>ROS_WARNING_CDS</th>\n",
       "      <th>ROS_CITATION_CDS</th>\n",
       "      <th>ROS_IN_FIELD_CITE_RELEASE_CDS</th>\n",
       "      <th>ROS_CUSTODIAL_WOUT_WARRANT_CDS</th>\n",
       "    </tr>\n",
       "  </thead>\n",
       "  <tbody>\n",
       "  </tbody>\n",
       "</table>\n",
       "<p>0 rows × 118 columns</p>\n",
       "</div>"
      ],
      "text/plain": [
       "Empty DataFrame\n",
       "Columns: [DOJ_RECORD_ID, PERSON_NUMBER, AGENCY_ORI, AGENCY_NAME, TIME_OF_STOP, DATE_OF_STOP, STOP_DURATION, CLOSEST_CITY, SCHOOL_CODE, SCHOOL_NAME, STOP_STUDENT, K12_SCHOOL_GROUNDS, RAE_FULL, G_FULL, LGBT, AGE, LIMITED_ENGLISH_FLUENCY, PD_FULL, REASON_FOR_STOP, RFS_TRAFFIC_VIOLATION_TYPE, RFS_TRAFFIC_VIOLATION_CODE, RFS_RS_CODE, RFS_RS_OFF_WITNESS, RFS_RS_MATCH_SUSPECT, RFS_RS_WITNESS_ID, RFS_RS_CARRY_SUS_OBJECT, RFS_RS_ACTIONS_INDICATIVE, RFS_RS_SUSPECT_LOOK, RFS_RS_DRUG_TRANS, RFS_RS_VIOLENT_CRIME, RFS_RS_REASON_SUSP, RFS_EC_DISCIPLINE_CODE, RFS_EC_DISCIPLINE, CALL_FOR_SERVICE, ADS_REMOVED_VEHICLE_ORDER, ADS_REMOVED_VEHICLE_PHYCONTACT, ADS_SOBRIETY_TEST, ADS_CURB_DETENT, ADS_HANDCUFFED, ADS_PATCAR_DETENT, ADS_CANINE_SEARCH, ADS_FIREARM_POINT, ADS_FIREARM_DISCHARGE, ADS_ELECT_DEVICE, ADS_IMPACT_DISCHARGE, ADS_CANINE_BITE, ADS_BATON, ADS_CHEM_SPRAY, ADS_OTHER_CONTACT, ADS_PHOTO, ADS_ASKED_SEARCH_PER, ADS_SEARCH_PERSON, ADS_ASKED_SEARCH_PROP, ADS_SEARCH_PROPERTY, ADS_PROP_SEIZE, ADS_VEHICLE_IMPOUND, ADS_WRITTEN_STATEMENT, ADS_NO_ACTIONS, ADS_SEARCH_PERS_CONSEN, ADS_SEARCH_PROP_CONSEN, BFS_CONSENT_GIVEN, BFS_OFFICER_SAFETY, BFS_SEARCH_WARRANT, BFS_PAROLE, BFS_SUSPECT_WEAPON, BFS_VISIBLE_CONTRABAND, BFS_ODOR_CONTRABAND, BFS_CANINE_DETECT, BFS_EVIDENCE, BFS_INCIDENT, BFS_EXIGENT_CIRCUM, BFS_VEHICLE_INVENT, BFS_SCHOOL_POLICY, CED_NONE_CONTRABAND, CED_FIREARM, CED_AMMUNITION, CED_WEAPON, CED_DRUGS, CED_ALCOHOL, CED_MONEY, CED_DRUG_PARAPHERNALIA, CED_STOLEN_PROP, CED_ELECT_DEVICE, CED_OTHER_CONTRABAND, BPS_SAFEKEEPING, BPS_CONTRABAND, BPS_EVIDENCE, BPS_IMPOUND_VEHICLE, BPS_ABANDON_PROP, BPS_VIOLATE_SCHOOL, TPS_FIREARM, TPS_AMMUNITION, TPS_WEAPON, TPS_DRUGS, TPS_ALCOHOL, TPS_MONEY, TPS_DRUG_PARAPHERNALIA, TPS_STOLEN_PROP, TPS_CELLPHONE, TPS_VEHICLE, ...]\n",
       "Index: []\n",
       "\n",
       "[0 rows x 118 columns]"
      ]
     },
     "execution_count": 21,
     "metadata": {},
     "output_type": "execute_result"
    }
   ],
   "source": [
    "# check for NAN values related to perceived age\n",
    "data_raw[data_raw['AGE'].isna()==True]"
   ]
  },
  {
   "cell_type": "code",
   "execution_count": 22,
   "id": "d5449748",
   "metadata": {},
   "outputs": [
    {
     "data": {
      "text/plain": [
       "array([150,  35,  25,  20,  40,  30,  54,  45,  21,  37,  22,  50,  60,\n",
       "        28,  23,  33,  55,  46,   1,  70,  17,  53,  32,  18,  29,  80,\n",
       "        26,  65,  48,  15,  52,  16,  47,  34,  12,  24,  31,  19,  44,\n",
       "        42,  56,  38,  27,  13,  61,  59,  39,  10,  14,  43,  36,  51,\n",
       "        62,  68,  71,  41,  69,  57,  78,  63,  72,  74,  75,  49,  58,\n",
       "        73,  90,  82,  81,  67,  76,  79,  11,  64,  88,  93,  92,  66,\n",
       "        85,  77,  83,  89,  87], dtype=int64)"
      ]
     },
     "execution_count": 22,
     "metadata": {},
     "output_type": "execute_result"
    }
   ],
   "source": [
    "# check coding of 'AGE' (i.e., perceived age) in 'data_raw'\n",
    "data_raw['AGE'].unique()\n",
    "\n",
    "# NOTE: individual values are not very useful here - create bins for ages for future analysis"
   ]
  },
  {
   "cell_type": "code",
   "execution_count": 23,
   "id": "47a1f56d",
   "metadata": {},
   "outputs": [
    {
     "data": {
      "text/plain": [
       "30    4956\n",
       "25    3222\n",
       "20    3193\n",
       "40    3175\n",
       "50    2197\n",
       "      ... \n",
       "81       1\n",
       "93       1\n",
       "83       1\n",
       "89       1\n",
       "87       1\n",
       "Name: AGE, Length: 83, dtype: int64"
      ]
     },
     "execution_count": 23,
     "metadata": {},
     "output_type": "execute_result"
    }
   ],
   "source": [
    "# check count of police stop incidents per 'AGE' (i.e., perceived age) type in 'data_raw'\n",
    "data_raw['AGE'].value_counts()\n",
    "\n",
    "# NOTE: '150' ERROR and '1 ERROR'.  These are clearly outliers/errors in the data that are worth mentioning (LIMITATION)"
   ]
  },
  {
   "cell_type": "markdown",
   "id": "06de85b3",
   "metadata": {},
   "source": [
    "#### 0.5 Perceived English Fluency"
   ]
  },
  {
   "cell_type": "markdown",
   "id": "65772b18",
   "metadata": {},
   "source": [
    "Where the RIPA Data Documentation Code 'LIMITED_ENGLISH_FLUENCY' (i.e., perceived fluency in the English language) data values as follows:\n",
    "\n",
    "* 0 = Full English Fluency\n",
    "* 1 = Limited English Fluency"
   ]
  },
  {
   "cell_type": "code",
   "execution_count": 24,
   "id": "459774e2",
   "metadata": {},
   "outputs": [
    {
     "data": {
      "text/html": [
       "<div>\n",
       "<style scoped>\n",
       "    .dataframe tbody tr th:only-of-type {\n",
       "        vertical-align: middle;\n",
       "    }\n",
       "\n",
       "    .dataframe tbody tr th {\n",
       "        vertical-align: top;\n",
       "    }\n",
       "\n",
       "    .dataframe thead th {\n",
       "        text-align: right;\n",
       "    }\n",
       "</style>\n",
       "<table border=\"1\" class=\"dataframe\">\n",
       "  <thead>\n",
       "    <tr style=\"text-align: right;\">\n",
       "      <th></th>\n",
       "      <th>DOJ_RECORD_ID</th>\n",
       "      <th>PERSON_NUMBER</th>\n",
       "      <th>AGENCY_ORI</th>\n",
       "      <th>AGENCY_NAME</th>\n",
       "      <th>TIME_OF_STOP</th>\n",
       "      <th>DATE_OF_STOP</th>\n",
       "      <th>STOP_DURATION</th>\n",
       "      <th>CLOSEST_CITY</th>\n",
       "      <th>SCHOOL_CODE</th>\n",
       "      <th>SCHOOL_NAME</th>\n",
       "      <th>...</th>\n",
       "      <th>ROS_NONCRIMINAL_TRANSPORT</th>\n",
       "      <th>ROS_CONTACT_LEGAL_GUARDIAN</th>\n",
       "      <th>ROS_PSYCH_HOLD</th>\n",
       "      <th>ROS_US_HOMELAND</th>\n",
       "      <th>ROS_REFERRAL_SCHOOL_ADMIN</th>\n",
       "      <th>ROS_REFERRAL_SCHOOL_COUNSELOR</th>\n",
       "      <th>ROS_WARNING_CDS</th>\n",
       "      <th>ROS_CITATION_CDS</th>\n",
       "      <th>ROS_IN_FIELD_CITE_RELEASE_CDS</th>\n",
       "      <th>ROS_CUSTODIAL_WOUT_WARRANT_CDS</th>\n",
       "    </tr>\n",
       "  </thead>\n",
       "  <tbody>\n",
       "  </tbody>\n",
       "</table>\n",
       "<p>0 rows × 118 columns</p>\n",
       "</div>"
      ],
      "text/plain": [
       "Empty DataFrame\n",
       "Columns: [DOJ_RECORD_ID, PERSON_NUMBER, AGENCY_ORI, AGENCY_NAME, TIME_OF_STOP, DATE_OF_STOP, STOP_DURATION, CLOSEST_CITY, SCHOOL_CODE, SCHOOL_NAME, STOP_STUDENT, K12_SCHOOL_GROUNDS, RAE_FULL, G_FULL, LGBT, AGE, LIMITED_ENGLISH_FLUENCY, PD_FULL, REASON_FOR_STOP, RFS_TRAFFIC_VIOLATION_TYPE, RFS_TRAFFIC_VIOLATION_CODE, RFS_RS_CODE, RFS_RS_OFF_WITNESS, RFS_RS_MATCH_SUSPECT, RFS_RS_WITNESS_ID, RFS_RS_CARRY_SUS_OBJECT, RFS_RS_ACTIONS_INDICATIVE, RFS_RS_SUSPECT_LOOK, RFS_RS_DRUG_TRANS, RFS_RS_VIOLENT_CRIME, RFS_RS_REASON_SUSP, RFS_EC_DISCIPLINE_CODE, RFS_EC_DISCIPLINE, CALL_FOR_SERVICE, ADS_REMOVED_VEHICLE_ORDER, ADS_REMOVED_VEHICLE_PHYCONTACT, ADS_SOBRIETY_TEST, ADS_CURB_DETENT, ADS_HANDCUFFED, ADS_PATCAR_DETENT, ADS_CANINE_SEARCH, ADS_FIREARM_POINT, ADS_FIREARM_DISCHARGE, ADS_ELECT_DEVICE, ADS_IMPACT_DISCHARGE, ADS_CANINE_BITE, ADS_BATON, ADS_CHEM_SPRAY, ADS_OTHER_CONTACT, ADS_PHOTO, ADS_ASKED_SEARCH_PER, ADS_SEARCH_PERSON, ADS_ASKED_SEARCH_PROP, ADS_SEARCH_PROPERTY, ADS_PROP_SEIZE, ADS_VEHICLE_IMPOUND, ADS_WRITTEN_STATEMENT, ADS_NO_ACTIONS, ADS_SEARCH_PERS_CONSEN, ADS_SEARCH_PROP_CONSEN, BFS_CONSENT_GIVEN, BFS_OFFICER_SAFETY, BFS_SEARCH_WARRANT, BFS_PAROLE, BFS_SUSPECT_WEAPON, BFS_VISIBLE_CONTRABAND, BFS_ODOR_CONTRABAND, BFS_CANINE_DETECT, BFS_EVIDENCE, BFS_INCIDENT, BFS_EXIGENT_CIRCUM, BFS_VEHICLE_INVENT, BFS_SCHOOL_POLICY, CED_NONE_CONTRABAND, CED_FIREARM, CED_AMMUNITION, CED_WEAPON, CED_DRUGS, CED_ALCOHOL, CED_MONEY, CED_DRUG_PARAPHERNALIA, CED_STOLEN_PROP, CED_ELECT_DEVICE, CED_OTHER_CONTRABAND, BPS_SAFEKEEPING, BPS_CONTRABAND, BPS_EVIDENCE, BPS_IMPOUND_VEHICLE, BPS_ABANDON_PROP, BPS_VIOLATE_SCHOOL, TPS_FIREARM, TPS_AMMUNITION, TPS_WEAPON, TPS_DRUGS, TPS_ALCOHOL, TPS_MONEY, TPS_DRUG_PARAPHERNALIA, TPS_STOLEN_PROP, TPS_CELLPHONE, TPS_VEHICLE, ...]\n",
       "Index: []\n",
       "\n",
       "[0 rows x 118 columns]"
      ]
     },
     "execution_count": 24,
     "metadata": {},
     "output_type": "execute_result"
    }
   ],
   "source": [
    "# check for NAN values related to perceived english fluency\n",
    "data_raw[data_raw['LIMITED_ENGLISH_FLUENCY'].isna()==True]"
   ]
  },
  {
   "cell_type": "code",
   "execution_count": 25,
   "id": "e6439dda",
   "metadata": {},
   "outputs": [
    {
     "data": {
      "text/plain": [
       "array([0, 1], dtype=int64)"
      ]
     },
     "execution_count": 25,
     "metadata": {},
     "output_type": "execute_result"
    }
   ],
   "source": [
    "# check coding of 'LIMITED_ENGLISH_FLUENCY' (i.e., perceived fluency in the English langauge) in 'data_raw'\n",
    "data_raw['LIMITED_ENGLISH_FLUENCY'].unique()"
   ]
  },
  {
   "cell_type": "code",
   "execution_count": 26,
   "id": "a3254e05",
   "metadata": {},
   "outputs": [
    {
     "data": {
      "text/plain": [
       "0    23419\n",
       "1     1809\n",
       "Name: LIMITED_ENGLISH_FLUENCY, dtype: int64"
      ]
     },
     "execution_count": 26,
     "metadata": {},
     "output_type": "execute_result"
    }
   ],
   "source": [
    "# check count of police stop incidents per 'LIMITED_ENGLISH_FLUENCY' (i.e., perceived fluency in the English language) type in 'data_raw'\n",
    "data_raw['LIMITED_ENGLISH_FLUENCY'].value_counts()"
   ]
  },
  {
   "cell_type": "markdown",
   "id": "1ff4a9a1",
   "metadata": {},
   "source": [
    "#### 0.6 Perceived Disability"
   ]
  },
  {
   "cell_type": "markdown",
   "id": "2bc66e25",
   "metadata": {},
   "source": [
    "Where the RIPA Data Documentation Code 'PD_FULL' (i.e., Perceived disability) data values as follows:\n",
    "\n",
    "* 0 = No Disability\n",
    "* 1 = Deafness\n",
    "* 2 = Speech Impairment\n",
    "* 3 = Blind\n",
    "* 4 = Mental Health Condition\n",
    "* 5 = Development\n",
    "* 6 = Hyperactivity\n",
    "* 7 = Other\n",
    "* 8 = Multiple Disability"
   ]
  },
  {
   "cell_type": "code",
   "execution_count": 27,
   "id": "d91fcdc5",
   "metadata": {},
   "outputs": [
    {
     "data": {
      "text/html": [
       "<div>\n",
       "<style scoped>\n",
       "    .dataframe tbody tr th:only-of-type {\n",
       "        vertical-align: middle;\n",
       "    }\n",
       "\n",
       "    .dataframe tbody tr th {\n",
       "        vertical-align: top;\n",
       "    }\n",
       "\n",
       "    .dataframe thead th {\n",
       "        text-align: right;\n",
       "    }\n",
       "</style>\n",
       "<table border=\"1\" class=\"dataframe\">\n",
       "  <thead>\n",
       "    <tr style=\"text-align: right;\">\n",
       "      <th></th>\n",
       "      <th>DOJ_RECORD_ID</th>\n",
       "      <th>PERSON_NUMBER</th>\n",
       "      <th>AGENCY_ORI</th>\n",
       "      <th>AGENCY_NAME</th>\n",
       "      <th>TIME_OF_STOP</th>\n",
       "      <th>DATE_OF_STOP</th>\n",
       "      <th>STOP_DURATION</th>\n",
       "      <th>CLOSEST_CITY</th>\n",
       "      <th>SCHOOL_CODE</th>\n",
       "      <th>SCHOOL_NAME</th>\n",
       "      <th>...</th>\n",
       "      <th>ROS_NONCRIMINAL_TRANSPORT</th>\n",
       "      <th>ROS_CONTACT_LEGAL_GUARDIAN</th>\n",
       "      <th>ROS_PSYCH_HOLD</th>\n",
       "      <th>ROS_US_HOMELAND</th>\n",
       "      <th>ROS_REFERRAL_SCHOOL_ADMIN</th>\n",
       "      <th>ROS_REFERRAL_SCHOOL_COUNSELOR</th>\n",
       "      <th>ROS_WARNING_CDS</th>\n",
       "      <th>ROS_CITATION_CDS</th>\n",
       "      <th>ROS_IN_FIELD_CITE_RELEASE_CDS</th>\n",
       "      <th>ROS_CUSTODIAL_WOUT_WARRANT_CDS</th>\n",
       "    </tr>\n",
       "  </thead>\n",
       "  <tbody>\n",
       "  </tbody>\n",
       "</table>\n",
       "<p>0 rows × 118 columns</p>\n",
       "</div>"
      ],
      "text/plain": [
       "Empty DataFrame\n",
       "Columns: [DOJ_RECORD_ID, PERSON_NUMBER, AGENCY_ORI, AGENCY_NAME, TIME_OF_STOP, DATE_OF_STOP, STOP_DURATION, CLOSEST_CITY, SCHOOL_CODE, SCHOOL_NAME, STOP_STUDENT, K12_SCHOOL_GROUNDS, RAE_FULL, G_FULL, LGBT, AGE, LIMITED_ENGLISH_FLUENCY, PD_FULL, REASON_FOR_STOP, RFS_TRAFFIC_VIOLATION_TYPE, RFS_TRAFFIC_VIOLATION_CODE, RFS_RS_CODE, RFS_RS_OFF_WITNESS, RFS_RS_MATCH_SUSPECT, RFS_RS_WITNESS_ID, RFS_RS_CARRY_SUS_OBJECT, RFS_RS_ACTIONS_INDICATIVE, RFS_RS_SUSPECT_LOOK, RFS_RS_DRUG_TRANS, RFS_RS_VIOLENT_CRIME, RFS_RS_REASON_SUSP, RFS_EC_DISCIPLINE_CODE, RFS_EC_DISCIPLINE, CALL_FOR_SERVICE, ADS_REMOVED_VEHICLE_ORDER, ADS_REMOVED_VEHICLE_PHYCONTACT, ADS_SOBRIETY_TEST, ADS_CURB_DETENT, ADS_HANDCUFFED, ADS_PATCAR_DETENT, ADS_CANINE_SEARCH, ADS_FIREARM_POINT, ADS_FIREARM_DISCHARGE, ADS_ELECT_DEVICE, ADS_IMPACT_DISCHARGE, ADS_CANINE_BITE, ADS_BATON, ADS_CHEM_SPRAY, ADS_OTHER_CONTACT, ADS_PHOTO, ADS_ASKED_SEARCH_PER, ADS_SEARCH_PERSON, ADS_ASKED_SEARCH_PROP, ADS_SEARCH_PROPERTY, ADS_PROP_SEIZE, ADS_VEHICLE_IMPOUND, ADS_WRITTEN_STATEMENT, ADS_NO_ACTIONS, ADS_SEARCH_PERS_CONSEN, ADS_SEARCH_PROP_CONSEN, BFS_CONSENT_GIVEN, BFS_OFFICER_SAFETY, BFS_SEARCH_WARRANT, BFS_PAROLE, BFS_SUSPECT_WEAPON, BFS_VISIBLE_CONTRABAND, BFS_ODOR_CONTRABAND, BFS_CANINE_DETECT, BFS_EVIDENCE, BFS_INCIDENT, BFS_EXIGENT_CIRCUM, BFS_VEHICLE_INVENT, BFS_SCHOOL_POLICY, CED_NONE_CONTRABAND, CED_FIREARM, CED_AMMUNITION, CED_WEAPON, CED_DRUGS, CED_ALCOHOL, CED_MONEY, CED_DRUG_PARAPHERNALIA, CED_STOLEN_PROP, CED_ELECT_DEVICE, CED_OTHER_CONTRABAND, BPS_SAFEKEEPING, BPS_CONTRABAND, BPS_EVIDENCE, BPS_IMPOUND_VEHICLE, BPS_ABANDON_PROP, BPS_VIOLATE_SCHOOL, TPS_FIREARM, TPS_AMMUNITION, TPS_WEAPON, TPS_DRUGS, TPS_ALCOHOL, TPS_MONEY, TPS_DRUG_PARAPHERNALIA, TPS_STOLEN_PROP, TPS_CELLPHONE, TPS_VEHICLE, ...]\n",
       "Index: []\n",
       "\n",
       "[0 rows x 118 columns]"
      ]
     },
     "execution_count": 27,
     "metadata": {},
     "output_type": "execute_result"
    }
   ],
   "source": [
    "# check for NAN values related to perceived disability\n",
    "data_raw[data_raw['PD_FULL'].isna()==True]"
   ]
  },
  {
   "cell_type": "code",
   "execution_count": 28,
   "id": "7c478753",
   "metadata": {},
   "outputs": [
    {
     "data": {
      "text/plain": [
       "array([0, 4, 7, 2, 8, 1, 5, 3, 6], dtype=int64)"
      ]
     },
     "execution_count": 28,
     "metadata": {},
     "output_type": "execute_result"
    }
   ],
   "source": [
    "# check coding of 'PD_FULL' (i.e., perceived disability) in 'data_raw'\n",
    "data_raw['PD_FULL'].unique()"
   ]
  },
  {
   "cell_type": "code",
   "execution_count": 29,
   "id": "9b65f4d3",
   "metadata": {},
   "outputs": [
    {
     "data": {
      "text/plain": [
       "0    22553\n",
       "4     2132\n",
       "8      185\n",
       "2      149\n",
       "7      113\n",
       "5       46\n",
       "3       26\n",
       "1       23\n",
       "6        1\n",
       "Name: PD_FULL, dtype: int64"
      ]
     },
     "execution_count": 29,
     "metadata": {},
     "output_type": "execute_result"
    }
   ],
   "source": [
    "# check count of police stop incidents per 'PD_FULL' (i.e., perceived disability) type in 'data_raw'\n",
    "data_raw['PD_FULL'].value_counts()"
   ]
  },
  {
   "cell_type": "markdown",
   "id": "2135c687",
   "metadata": {},
   "source": [
    "#### 0.7 Reason for Stop"
   ]
  },
  {
   "cell_type": "markdown",
   "id": "82a2f3e6",
   "metadata": {},
   "source": [
    "Where the RIPA Data Documentation Code 'REASON_FOR_STOP' (i.e., reason for the police stop incident) data values as follows:\n",
    "\n",
    "* 1 = Traffic Violation\n",
    "* 2 = Reasonable Suspicion\n",
    "* 3 = Parole/Probation/PRCS/Mandatory Supervision\n",
    "* 4 = Knowledge of Outstanding Arrest Warrant or Wanted Person\n",
    "* 5 = Investigation to Determinewhether Person was Truant\n",
    "* 6 = Consensual Encounter Resulting in Search\n",
    "* 7 = Possible Conduct under Education Code\n",
    "* 8 = Determine whether Student Violated School Policy"
   ]
  },
  {
   "cell_type": "code",
   "execution_count": 30,
   "id": "fa9f3c57",
   "metadata": {},
   "outputs": [
    {
     "data": {
      "text/html": [
       "<div>\n",
       "<style scoped>\n",
       "    .dataframe tbody tr th:only-of-type {\n",
       "        vertical-align: middle;\n",
       "    }\n",
       "\n",
       "    .dataframe tbody tr th {\n",
       "        vertical-align: top;\n",
       "    }\n",
       "\n",
       "    .dataframe thead th {\n",
       "        text-align: right;\n",
       "    }\n",
       "</style>\n",
       "<table border=\"1\" class=\"dataframe\">\n",
       "  <thead>\n",
       "    <tr style=\"text-align: right;\">\n",
       "      <th></th>\n",
       "      <th>DOJ_RECORD_ID</th>\n",
       "      <th>PERSON_NUMBER</th>\n",
       "      <th>AGENCY_ORI</th>\n",
       "      <th>AGENCY_NAME</th>\n",
       "      <th>TIME_OF_STOP</th>\n",
       "      <th>DATE_OF_STOP</th>\n",
       "      <th>STOP_DURATION</th>\n",
       "      <th>CLOSEST_CITY</th>\n",
       "      <th>SCHOOL_CODE</th>\n",
       "      <th>SCHOOL_NAME</th>\n",
       "      <th>...</th>\n",
       "      <th>ROS_NONCRIMINAL_TRANSPORT</th>\n",
       "      <th>ROS_CONTACT_LEGAL_GUARDIAN</th>\n",
       "      <th>ROS_PSYCH_HOLD</th>\n",
       "      <th>ROS_US_HOMELAND</th>\n",
       "      <th>ROS_REFERRAL_SCHOOL_ADMIN</th>\n",
       "      <th>ROS_REFERRAL_SCHOOL_COUNSELOR</th>\n",
       "      <th>ROS_WARNING_CDS</th>\n",
       "      <th>ROS_CITATION_CDS</th>\n",
       "      <th>ROS_IN_FIELD_CITE_RELEASE_CDS</th>\n",
       "      <th>ROS_CUSTODIAL_WOUT_WARRANT_CDS</th>\n",
       "    </tr>\n",
       "  </thead>\n",
       "  <tbody>\n",
       "  </tbody>\n",
       "</table>\n",
       "<p>0 rows × 118 columns</p>\n",
       "</div>"
      ],
      "text/plain": [
       "Empty DataFrame\n",
       "Columns: [DOJ_RECORD_ID, PERSON_NUMBER, AGENCY_ORI, AGENCY_NAME, TIME_OF_STOP, DATE_OF_STOP, STOP_DURATION, CLOSEST_CITY, SCHOOL_CODE, SCHOOL_NAME, STOP_STUDENT, K12_SCHOOL_GROUNDS, RAE_FULL, G_FULL, LGBT, AGE, LIMITED_ENGLISH_FLUENCY, PD_FULL, REASON_FOR_STOP, RFS_TRAFFIC_VIOLATION_TYPE, RFS_TRAFFIC_VIOLATION_CODE, RFS_RS_CODE, RFS_RS_OFF_WITNESS, RFS_RS_MATCH_SUSPECT, RFS_RS_WITNESS_ID, RFS_RS_CARRY_SUS_OBJECT, RFS_RS_ACTIONS_INDICATIVE, RFS_RS_SUSPECT_LOOK, RFS_RS_DRUG_TRANS, RFS_RS_VIOLENT_CRIME, RFS_RS_REASON_SUSP, RFS_EC_DISCIPLINE_CODE, RFS_EC_DISCIPLINE, CALL_FOR_SERVICE, ADS_REMOVED_VEHICLE_ORDER, ADS_REMOVED_VEHICLE_PHYCONTACT, ADS_SOBRIETY_TEST, ADS_CURB_DETENT, ADS_HANDCUFFED, ADS_PATCAR_DETENT, ADS_CANINE_SEARCH, ADS_FIREARM_POINT, ADS_FIREARM_DISCHARGE, ADS_ELECT_DEVICE, ADS_IMPACT_DISCHARGE, ADS_CANINE_BITE, ADS_BATON, ADS_CHEM_SPRAY, ADS_OTHER_CONTACT, ADS_PHOTO, ADS_ASKED_SEARCH_PER, ADS_SEARCH_PERSON, ADS_ASKED_SEARCH_PROP, ADS_SEARCH_PROPERTY, ADS_PROP_SEIZE, ADS_VEHICLE_IMPOUND, ADS_WRITTEN_STATEMENT, ADS_NO_ACTIONS, ADS_SEARCH_PERS_CONSEN, ADS_SEARCH_PROP_CONSEN, BFS_CONSENT_GIVEN, BFS_OFFICER_SAFETY, BFS_SEARCH_WARRANT, BFS_PAROLE, BFS_SUSPECT_WEAPON, BFS_VISIBLE_CONTRABAND, BFS_ODOR_CONTRABAND, BFS_CANINE_DETECT, BFS_EVIDENCE, BFS_INCIDENT, BFS_EXIGENT_CIRCUM, BFS_VEHICLE_INVENT, BFS_SCHOOL_POLICY, CED_NONE_CONTRABAND, CED_FIREARM, CED_AMMUNITION, CED_WEAPON, CED_DRUGS, CED_ALCOHOL, CED_MONEY, CED_DRUG_PARAPHERNALIA, CED_STOLEN_PROP, CED_ELECT_DEVICE, CED_OTHER_CONTRABAND, BPS_SAFEKEEPING, BPS_CONTRABAND, BPS_EVIDENCE, BPS_IMPOUND_VEHICLE, BPS_ABANDON_PROP, BPS_VIOLATE_SCHOOL, TPS_FIREARM, TPS_AMMUNITION, TPS_WEAPON, TPS_DRUGS, TPS_ALCOHOL, TPS_MONEY, TPS_DRUG_PARAPHERNALIA, TPS_STOLEN_PROP, TPS_CELLPHONE, TPS_VEHICLE, ...]\n",
       "Index: []\n",
       "\n",
       "[0 rows x 118 columns]"
      ]
     },
     "execution_count": 30,
     "metadata": {},
     "output_type": "execute_result"
    }
   ],
   "source": [
    "# check for NAN values related to reason for stop\n",
    "data_raw[data_raw['REASON_FOR_STOP'].isna()==True]"
   ]
  },
  {
   "cell_type": "code",
   "execution_count": 31,
   "id": "e0d13ac3",
   "metadata": {},
   "outputs": [
    {
     "data": {
      "text/plain": [
       "array([  1,   2,   4,   6,   3,  99, 999,   5,   7], dtype=int64)"
      ]
     },
     "execution_count": 31,
     "metadata": {},
     "output_type": "execute_result"
    }
   ],
   "source": [
    "# check coding of 'REASON_FOR_STOP' (i.e., reason for the police stop incident) in 'data_raw'\n",
    "data_raw['REASON_FOR_STOP'].unique()\n",
    "\n",
    "## NOTE: ERRORS found in data - according to the RIPA DATA Documentation, \n",
    "    ## '99' and '999' are not a coded types of reasons for the police stop incident (only '1', '2', '3', '4', '5','6', '7', and '8' are options for coded data)\n",
    "    ## Interestingly, 8 does not show up as a coded option in the actual data present, however it presents itself as a possibility in the RIPA Data Documentation.\n",
    "    ## This is worth noting as a limitation because it is possible that some of the '99' and the '999' ERRORS have been accidently coded in place of '8'.  It could be\n",
    "    ## worth investigating in future research if instances of '99' and '999' correspond with other 'student' oriented columns and values (LIMITATION)."
   ]
  },
  {
   "cell_type": "code",
   "execution_count": 32,
   "id": "05df5bbc",
   "metadata": {},
   "outputs": [
    {
     "data": {
      "text/plain": [
       "2      13597\n",
       "1      10171\n",
       "4       1007\n",
       "3        235\n",
       "6        166\n",
       "5         32\n",
       "99        13\n",
       "999        6\n",
       "7          1\n",
       "Name: REASON_FOR_STOP, dtype: int64"
      ]
     },
     "execution_count": 32,
     "metadata": {},
     "output_type": "execute_result"
    }
   ],
   "source": [
    "# check count of police stop incident per 'REASON_FOR_STOP' (i.e., reason for the police stop incident) type in 'data_raw'\n",
    "    ## and check number of times that the '99' and '999' ERRORS in 'REASON_FOR_STOP' (i.e., reason for the police stop incident) occurs in 'data_raw'\n",
    "data_raw['REASON_FOR_STOP'].value_counts()\n",
    "\n",
    "# '99' ERROR shows up 13 times and '999' ERROR shows up 6 times in dataset, therefore 13 + 6 (19 total) police incident stops cannot be accounted for when interested in the reason for the police stop incident (LIMITATION)\n",
    "    ## MUST correct for '99' ERROR and '999' ERROR by recoding '99' and '999' in 'data_raw' 'REASON_FOR_STOP' to 'unidentified'"
   ]
  },
  {
   "cell_type": "markdown",
   "id": "aeb637c5",
   "metadata": {},
   "source": [
    "#### 0.8 Handcuffed / Not Handcuffed"
   ]
  },
  {
   "cell_type": "markdown",
   "id": "127cdb88",
   "metadata": {},
   "source": [
    "Where the RIPA Data Documentation Code 'ADS_HANDCUFFED' (i.e., whether the police stop incident resulted in the citizen being handcuffed or not) data values as follows:\n",
    "\n",
    "* 0 = No (i.e., not handcuffed)\n",
    "* 1 = Yes (i.e., handcuffed)"
   ]
  },
  {
   "cell_type": "code",
   "execution_count": 33,
   "id": "7b86e9b3",
   "metadata": {},
   "outputs": [
    {
     "data": {
      "text/html": [
       "<div>\n",
       "<style scoped>\n",
       "    .dataframe tbody tr th:only-of-type {\n",
       "        vertical-align: middle;\n",
       "    }\n",
       "\n",
       "    .dataframe tbody tr th {\n",
       "        vertical-align: top;\n",
       "    }\n",
       "\n",
       "    .dataframe thead th {\n",
       "        text-align: right;\n",
       "    }\n",
       "</style>\n",
       "<table border=\"1\" class=\"dataframe\">\n",
       "  <thead>\n",
       "    <tr style=\"text-align: right;\">\n",
       "      <th></th>\n",
       "      <th>DOJ_RECORD_ID</th>\n",
       "      <th>PERSON_NUMBER</th>\n",
       "      <th>AGENCY_ORI</th>\n",
       "      <th>AGENCY_NAME</th>\n",
       "      <th>TIME_OF_STOP</th>\n",
       "      <th>DATE_OF_STOP</th>\n",
       "      <th>STOP_DURATION</th>\n",
       "      <th>CLOSEST_CITY</th>\n",
       "      <th>SCHOOL_CODE</th>\n",
       "      <th>SCHOOL_NAME</th>\n",
       "      <th>...</th>\n",
       "      <th>ROS_NONCRIMINAL_TRANSPORT</th>\n",
       "      <th>ROS_CONTACT_LEGAL_GUARDIAN</th>\n",
       "      <th>ROS_PSYCH_HOLD</th>\n",
       "      <th>ROS_US_HOMELAND</th>\n",
       "      <th>ROS_REFERRAL_SCHOOL_ADMIN</th>\n",
       "      <th>ROS_REFERRAL_SCHOOL_COUNSELOR</th>\n",
       "      <th>ROS_WARNING_CDS</th>\n",
       "      <th>ROS_CITATION_CDS</th>\n",
       "      <th>ROS_IN_FIELD_CITE_RELEASE_CDS</th>\n",
       "      <th>ROS_CUSTODIAL_WOUT_WARRANT_CDS</th>\n",
       "    </tr>\n",
       "  </thead>\n",
       "  <tbody>\n",
       "  </tbody>\n",
       "</table>\n",
       "<p>0 rows × 118 columns</p>\n",
       "</div>"
      ],
      "text/plain": [
       "Empty DataFrame\n",
       "Columns: [DOJ_RECORD_ID, PERSON_NUMBER, AGENCY_ORI, AGENCY_NAME, TIME_OF_STOP, DATE_OF_STOP, STOP_DURATION, CLOSEST_CITY, SCHOOL_CODE, SCHOOL_NAME, STOP_STUDENT, K12_SCHOOL_GROUNDS, RAE_FULL, G_FULL, LGBT, AGE, LIMITED_ENGLISH_FLUENCY, PD_FULL, REASON_FOR_STOP, RFS_TRAFFIC_VIOLATION_TYPE, RFS_TRAFFIC_VIOLATION_CODE, RFS_RS_CODE, RFS_RS_OFF_WITNESS, RFS_RS_MATCH_SUSPECT, RFS_RS_WITNESS_ID, RFS_RS_CARRY_SUS_OBJECT, RFS_RS_ACTIONS_INDICATIVE, RFS_RS_SUSPECT_LOOK, RFS_RS_DRUG_TRANS, RFS_RS_VIOLENT_CRIME, RFS_RS_REASON_SUSP, RFS_EC_DISCIPLINE_CODE, RFS_EC_DISCIPLINE, CALL_FOR_SERVICE, ADS_REMOVED_VEHICLE_ORDER, ADS_REMOVED_VEHICLE_PHYCONTACT, ADS_SOBRIETY_TEST, ADS_CURB_DETENT, ADS_HANDCUFFED, ADS_PATCAR_DETENT, ADS_CANINE_SEARCH, ADS_FIREARM_POINT, ADS_FIREARM_DISCHARGE, ADS_ELECT_DEVICE, ADS_IMPACT_DISCHARGE, ADS_CANINE_BITE, ADS_BATON, ADS_CHEM_SPRAY, ADS_OTHER_CONTACT, ADS_PHOTO, ADS_ASKED_SEARCH_PER, ADS_SEARCH_PERSON, ADS_ASKED_SEARCH_PROP, ADS_SEARCH_PROPERTY, ADS_PROP_SEIZE, ADS_VEHICLE_IMPOUND, ADS_WRITTEN_STATEMENT, ADS_NO_ACTIONS, ADS_SEARCH_PERS_CONSEN, ADS_SEARCH_PROP_CONSEN, BFS_CONSENT_GIVEN, BFS_OFFICER_SAFETY, BFS_SEARCH_WARRANT, BFS_PAROLE, BFS_SUSPECT_WEAPON, BFS_VISIBLE_CONTRABAND, BFS_ODOR_CONTRABAND, BFS_CANINE_DETECT, BFS_EVIDENCE, BFS_INCIDENT, BFS_EXIGENT_CIRCUM, BFS_VEHICLE_INVENT, BFS_SCHOOL_POLICY, CED_NONE_CONTRABAND, CED_FIREARM, CED_AMMUNITION, CED_WEAPON, CED_DRUGS, CED_ALCOHOL, CED_MONEY, CED_DRUG_PARAPHERNALIA, CED_STOLEN_PROP, CED_ELECT_DEVICE, CED_OTHER_CONTRABAND, BPS_SAFEKEEPING, BPS_CONTRABAND, BPS_EVIDENCE, BPS_IMPOUND_VEHICLE, BPS_ABANDON_PROP, BPS_VIOLATE_SCHOOL, TPS_FIREARM, TPS_AMMUNITION, TPS_WEAPON, TPS_DRUGS, TPS_ALCOHOL, TPS_MONEY, TPS_DRUG_PARAPHERNALIA, TPS_STOLEN_PROP, TPS_CELLPHONE, TPS_VEHICLE, ...]\n",
       "Index: []\n",
       "\n",
       "[0 rows x 118 columns]"
      ]
     },
     "execution_count": 33,
     "metadata": {},
     "output_type": "execute_result"
    }
   ],
   "source": [
    "# check for NAN values related to whether someone was handcuffed or not\n",
    "data_raw[data_raw['ADS_HANDCUFFED'].isna()==True]"
   ]
  },
  {
   "cell_type": "code",
   "execution_count": 34,
   "id": "b14b2347",
   "metadata": {},
   "outputs": [
    {
     "data": {
      "text/plain": [
       "array([0, 1], dtype=int64)"
      ]
     },
     "execution_count": 34,
     "metadata": {},
     "output_type": "execute_result"
    }
   ],
   "source": [
    "# check coding of 'ADS_HANDCUFFED' (i.e., whether the police stop incident resulted in handcuffing or not) in 'data_raw'\n",
    "data_raw['ADS_HANDCUFFED'].unique()"
   ]
  },
  {
   "cell_type": "code",
   "execution_count": 35,
   "id": "76979a2a",
   "metadata": {},
   "outputs": [
    {
     "data": {
      "text/plain": [
       "0    15602\n",
       "1     9626\n",
       "Name: ADS_HANDCUFFED, dtype: int64"
      ]
     },
     "execution_count": 35,
     "metadata": {},
     "output_type": "execute_result"
    }
   ],
   "source": [
    "# check count of police stop incidents per 'ADS_HANDCUFFED' (i.e., whether the police stop incident resulted in handcuffing or not ) type in 'data_raw'\n",
    "data_raw['ADS_HANDCUFFED'].value_counts()"
   ]
  },
  {
   "cell_type": "markdown",
   "id": "b90e9dc7",
   "metadata": {},
   "source": [
    "#### 0.9 Drugs Found / Not Found"
   ]
  },
  {
   "cell_type": "markdown",
   "id": "c6a35a62",
   "metadata": {},
   "source": [
    "Where the RIPA Data Documentation Code 'CED_DRUGS' (i.e., whether the police stop incident resulted in drugs being found or not) data values as follows:\n",
    "\n",
    "* 0 = No (i.e., drugs not found)\n",
    "* 1 = Yes (i.e., drugs found)"
   ]
  },
  {
   "cell_type": "code",
   "execution_count": 36,
   "id": "f3bab488",
   "metadata": {},
   "outputs": [
    {
     "data": {
      "text/html": [
       "<div>\n",
       "<style scoped>\n",
       "    .dataframe tbody tr th:only-of-type {\n",
       "        vertical-align: middle;\n",
       "    }\n",
       "\n",
       "    .dataframe tbody tr th {\n",
       "        vertical-align: top;\n",
       "    }\n",
       "\n",
       "    .dataframe thead th {\n",
       "        text-align: right;\n",
       "    }\n",
       "</style>\n",
       "<table border=\"1\" class=\"dataframe\">\n",
       "  <thead>\n",
       "    <tr style=\"text-align: right;\">\n",
       "      <th></th>\n",
       "      <th>DOJ_RECORD_ID</th>\n",
       "      <th>PERSON_NUMBER</th>\n",
       "      <th>AGENCY_ORI</th>\n",
       "      <th>AGENCY_NAME</th>\n",
       "      <th>TIME_OF_STOP</th>\n",
       "      <th>DATE_OF_STOP</th>\n",
       "      <th>STOP_DURATION</th>\n",
       "      <th>CLOSEST_CITY</th>\n",
       "      <th>SCHOOL_CODE</th>\n",
       "      <th>SCHOOL_NAME</th>\n",
       "      <th>...</th>\n",
       "      <th>ROS_NONCRIMINAL_TRANSPORT</th>\n",
       "      <th>ROS_CONTACT_LEGAL_GUARDIAN</th>\n",
       "      <th>ROS_PSYCH_HOLD</th>\n",
       "      <th>ROS_US_HOMELAND</th>\n",
       "      <th>ROS_REFERRAL_SCHOOL_ADMIN</th>\n",
       "      <th>ROS_REFERRAL_SCHOOL_COUNSELOR</th>\n",
       "      <th>ROS_WARNING_CDS</th>\n",
       "      <th>ROS_CITATION_CDS</th>\n",
       "      <th>ROS_IN_FIELD_CITE_RELEASE_CDS</th>\n",
       "      <th>ROS_CUSTODIAL_WOUT_WARRANT_CDS</th>\n",
       "    </tr>\n",
       "  </thead>\n",
       "  <tbody>\n",
       "  </tbody>\n",
       "</table>\n",
       "<p>0 rows × 118 columns</p>\n",
       "</div>"
      ],
      "text/plain": [
       "Empty DataFrame\n",
       "Columns: [DOJ_RECORD_ID, PERSON_NUMBER, AGENCY_ORI, AGENCY_NAME, TIME_OF_STOP, DATE_OF_STOP, STOP_DURATION, CLOSEST_CITY, SCHOOL_CODE, SCHOOL_NAME, STOP_STUDENT, K12_SCHOOL_GROUNDS, RAE_FULL, G_FULL, LGBT, AGE, LIMITED_ENGLISH_FLUENCY, PD_FULL, REASON_FOR_STOP, RFS_TRAFFIC_VIOLATION_TYPE, RFS_TRAFFIC_VIOLATION_CODE, RFS_RS_CODE, RFS_RS_OFF_WITNESS, RFS_RS_MATCH_SUSPECT, RFS_RS_WITNESS_ID, RFS_RS_CARRY_SUS_OBJECT, RFS_RS_ACTIONS_INDICATIVE, RFS_RS_SUSPECT_LOOK, RFS_RS_DRUG_TRANS, RFS_RS_VIOLENT_CRIME, RFS_RS_REASON_SUSP, RFS_EC_DISCIPLINE_CODE, RFS_EC_DISCIPLINE, CALL_FOR_SERVICE, ADS_REMOVED_VEHICLE_ORDER, ADS_REMOVED_VEHICLE_PHYCONTACT, ADS_SOBRIETY_TEST, ADS_CURB_DETENT, ADS_HANDCUFFED, ADS_PATCAR_DETENT, ADS_CANINE_SEARCH, ADS_FIREARM_POINT, ADS_FIREARM_DISCHARGE, ADS_ELECT_DEVICE, ADS_IMPACT_DISCHARGE, ADS_CANINE_BITE, ADS_BATON, ADS_CHEM_SPRAY, ADS_OTHER_CONTACT, ADS_PHOTO, ADS_ASKED_SEARCH_PER, ADS_SEARCH_PERSON, ADS_ASKED_SEARCH_PROP, ADS_SEARCH_PROPERTY, ADS_PROP_SEIZE, ADS_VEHICLE_IMPOUND, ADS_WRITTEN_STATEMENT, ADS_NO_ACTIONS, ADS_SEARCH_PERS_CONSEN, ADS_SEARCH_PROP_CONSEN, BFS_CONSENT_GIVEN, BFS_OFFICER_SAFETY, BFS_SEARCH_WARRANT, BFS_PAROLE, BFS_SUSPECT_WEAPON, BFS_VISIBLE_CONTRABAND, BFS_ODOR_CONTRABAND, BFS_CANINE_DETECT, BFS_EVIDENCE, BFS_INCIDENT, BFS_EXIGENT_CIRCUM, BFS_VEHICLE_INVENT, BFS_SCHOOL_POLICY, CED_NONE_CONTRABAND, CED_FIREARM, CED_AMMUNITION, CED_WEAPON, CED_DRUGS, CED_ALCOHOL, CED_MONEY, CED_DRUG_PARAPHERNALIA, CED_STOLEN_PROP, CED_ELECT_DEVICE, CED_OTHER_CONTRABAND, BPS_SAFEKEEPING, BPS_CONTRABAND, BPS_EVIDENCE, BPS_IMPOUND_VEHICLE, BPS_ABANDON_PROP, BPS_VIOLATE_SCHOOL, TPS_FIREARM, TPS_AMMUNITION, TPS_WEAPON, TPS_DRUGS, TPS_ALCOHOL, TPS_MONEY, TPS_DRUG_PARAPHERNALIA, TPS_STOLEN_PROP, TPS_CELLPHONE, TPS_VEHICLE, ...]\n",
       "Index: []\n",
       "\n",
       "[0 rows x 118 columns]"
      ]
     },
     "execution_count": 36,
     "metadata": {},
     "output_type": "execute_result"
    }
   ],
   "source": [
    "# check for NAN values related to whether  drugs were found or not\n",
    "data_raw[data_raw['CED_DRUGS'].isna()==True]"
   ]
  },
  {
   "cell_type": "code",
   "execution_count": 37,
   "id": "a2cda90c",
   "metadata": {},
   "outputs": [
    {
     "data": {
      "text/plain": [
       "array([0, 1], dtype=int64)"
      ]
     },
     "execution_count": 37,
     "metadata": {},
     "output_type": "execute_result"
    }
   ],
   "source": [
    "# check coding of 'CED_DRUGS' (i.e., whether the police stop incident resulted in drugs found or not) in 'data_raw'\n",
    "data_raw['CED_DRUGS'].unique()"
   ]
  },
  {
   "cell_type": "code",
   "execution_count": 38,
   "id": "37b40a36",
   "metadata": {},
   "outputs": [
    {
     "data": {
      "text/plain": [
       "0    23799\n",
       "1     1429\n",
       "Name: CED_DRUGS, dtype: int64"
      ]
     },
     "execution_count": 38,
     "metadata": {},
     "output_type": "execute_result"
    }
   ],
   "source": [
    "# check count of police stop incidents per 'CED_DRUGS' (i.e., whether the police stop incident resulted in drugs found or not ) type in 'data_raw'\n",
    "data_raw['CED_DRUGS'].value_counts()"
   ]
  },
  {
   "cell_type": "markdown",
   "id": "3fff08a3",
   "metadata": {},
   "source": [
    "#### 0.10 California Agencies In Charge of Police Stop Incidents"
   ]
  },
  {
   "cell_type": "code",
   "execution_count": 39,
   "id": "5963d4aa",
   "metadata": {},
   "outputs": [
    {
     "data": {
      "text/plain": [
       "array(['OAKLAND PD', 'SAN DIEGO PD', 'CHP-HQ A/C, STAFF',\n",
       "       'SAN DIEGO CO SO'], dtype=object)"
      ]
     },
     "execution_count": 39,
     "metadata": {},
     "output_type": "execute_result"
    }
   ],
   "source": [
    "# identify which California agencies exist in raw_data\n",
    "data_raw['AGENCY_NAME'].unique()"
   ]
  },
  {
   "cell_type": "markdown",
   "id": "02dc7026",
   "metadata": {},
   "source": [
    "### 1. Data Preparation "
   ]
  },
  {
   "cell_type": "markdown",
   "id": "11643345",
   "metadata": {},
   "source": [
    "#### 1.1 Subset for Oakland PD"
   ]
  },
  {
   "cell_type": "code",
   "execution_count": 40,
   "id": "ee4f6bcf",
   "metadata": {},
   "outputs": [],
   "source": [
    "# create new dataframe, 'data_oakland' which is a subset of 'data_raw' and only considers 'OAKLAND PD' as an 'AGENCY_NAME'\n",
    "data_oakland = data_raw[data_raw['AGENCY_NAME'] == 'OAKLAND PD'].copy()"
   ]
  },
  {
   "cell_type": "code",
   "execution_count": 41,
   "id": "5569819b",
   "metadata": {},
   "outputs": [
    {
     "data": {
      "text/plain": [
       "2      13578\n",
       "1       9362\n",
       "4       1002\n",
       "3        235\n",
       "6        166\n",
       "5         32\n",
       "99        13\n",
       "999        6\n",
       "7          1\n",
       "Name: REASON_FOR_STOP, dtype: int64"
      ]
     },
     "execution_count": 41,
     "metadata": {},
     "output_type": "execute_result"
    }
   ],
   "source": [
    "# check number of police stops pertaining to Oakland\n",
    "data_oakland['REASON_FOR_STOP'].value_counts()\n",
    "\n",
    "    ## NOTE: Oakland Police Department made a total of 24,395 police stops in 2019"
   ]
  },
  {
   "cell_type": "code",
   "execution_count": 42,
   "id": "8ae36bab",
   "metadata": {},
   "outputs": [
    {
     "data": {
      "text/plain": [
       "1"
      ]
     },
     "execution_count": 42,
     "metadata": {},
     "output_type": "execute_result"
    }
   ],
   "source": [
    "# check that 'AGENCY_NAME' has only 1 unique instance in 'data_oakland'\n",
    "data_oakland['AGENCY_NAME'].nunique() "
   ]
  },
  {
   "cell_type": "code",
   "execution_count": 43,
   "id": "03df02de",
   "metadata": {},
   "outputs": [
    {
     "data": {
      "text/plain": [
       "1"
      ]
     },
     "execution_count": 43,
     "metadata": {},
     "output_type": "execute_result"
    }
   ],
   "source": [
    "# check that 'AGENCY_ORI' has only 1 unique instance in 'data_oakland'\n",
    "data_oakland['AGENCY_ORI'].nunique() "
   ]
  },
  {
   "cell_type": "markdown",
   "id": "2793074b",
   "metadata": {},
   "source": [
    "#### 1.2 Recoding Perceived Race / Ethnicity"
   ]
  },
  {
   "cell_type": "code",
   "execution_count": 44,
   "id": "f703017a",
   "metadata": {},
   "outputs": [],
   "source": [
    "# recode 'RAE_FULL' values as follows:\n",
    "    # 1 = 'Asian'\n",
    "    # 2 = 'Black or African American'\n",
    "    # 3 = 'Hispanic or Latino'\n",
    "    # 4 = 'Middle Eastern or South Asian'\n",
    "    # 5 = 'Native American'\n",
    "    # 6 = 'Pacific Islander'\n",
    "    # 7 = 'White'\n",
    "    # 8 = 'Multiracial'\n",
    "    \n",
    "data_oakland['RAE_FULL'] = data_oakland['RAE_FULL'].replace([1, 2, 3, 4, 5, 6, 7, 8], \n",
    "                                                            ['Asian', 'Black or African American', 'Hispanic or Latino', \n",
    "                                                            'Middle Eastern or South Asian', 'Native American', 'Pacific Islander', \n",
    "                                                            'White', 'Multiracial'])"
   ]
  },
  {
   "cell_type": "markdown",
   "id": "b8d0e259",
   "metadata": {},
   "source": [
    "#### 1.3 Recoding Perceived Gender"
   ]
  },
  {
   "cell_type": "code",
   "execution_count": 45,
   "id": "7482d9fa",
   "metadata": {},
   "outputs": [],
   "source": [
    "# recode 'G_FULL' as follows:\n",
    "    # 1 = 'Male'\n",
    "    # 2 = 'Female'\n",
    "    # 3 = 'Transgender Man or Boy'\n",
    "    # 4 = 'Transgender Woman or Girl'\n",
    "    # 5 = 'Gender Nonconforming'\n",
    "    # 99 = 'Unidentified Gender'\n",
    "    \n",
    "data_oakland['G_FULL'] = data_oakland['G_FULL'].replace([1, 2, 3, 4, 5, 99], \n",
    "                                                            ['Male', 'Female', 'Transgender Man or Boy', 'Transgender Woman or Girl', 'Gender Nonconforming', 'Unidentified Gender'])"
   ]
  },
  {
   "cell_type": "markdown",
   "id": "fbe309b2",
   "metadata": {},
   "source": [
    "#### 1.4 Recoding Perceived LGBT"
   ]
  },
  {
   "cell_type": "code",
   "execution_count": 46,
   "id": "327267c3",
   "metadata": {},
   "outputs": [],
   "source": [
    "# recode 'LGBT' as follows:\n",
    "    # 0 = 'Not LGBT'\n",
    "    # 1 = 'LGBT'\n",
    "    \n",
    "data_oakland['LGBT'] = data_oakland['LGBT'].replace([0,1], ['Not LGBT', 'LGBT'])"
   ]
  },
  {
   "cell_type": "markdown",
   "id": "f22189d1",
   "metadata": {},
   "source": [
    "#### 1.5 Recoding Perceived English Fluency"
   ]
  },
  {
   "cell_type": "code",
   "execution_count": 47,
   "id": "c35dc035",
   "metadata": {},
   "outputs": [],
   "source": [
    "# recode 'LIMITED_ENGLISH_FLUENCY' as follows:\n",
    "    # 0 = 'Full English Fluency'\n",
    "    # 1 = 'Limited English Fluency'\n",
    "    \n",
    "data_oakland['LIMITED_ENGLISH_FLUENCY'] = data_oakland['LIMITED_ENGLISH_FLUENCY'].replace([0,1], ['Full English Fluency', 'Limited English Fluency'])"
   ]
  },
  {
   "cell_type": "markdown",
   "id": "0649a0f2",
   "metadata": {},
   "source": [
    "#### 1.6 Recoding Perceived Disability"
   ]
  },
  {
   "cell_type": "code",
   "execution_count": 48,
   "id": "e0074770",
   "metadata": {},
   "outputs": [],
   "source": [
    "# recode 'PD_FULL' as follows:\n",
    "    # 0 = 'No Disability'\n",
    "    # 1 = 'Deafness'\n",
    "    # 2 = 'Speech Impairment'\n",
    "    # 3 = 'Blind'\n",
    "    # 4 = 'Mental Health Condition'\n",
    "    # 5 = 'Development'\n",
    "    # 6 = 'Hyperactivity'\n",
    "    # 7 = 'Other'\n",
    "    # 8 = 'Multiple Disability'\n",
    "    \n",
    "data_oakland['PD_FULL'] = data_oakland['PD_FULL'].replace([0, 1, 2, 3, 4, 5, 6, 7, 8], ['No Disability', 'Deafness', 'Speech Impairment', 'Blind', \n",
    "                                                                                        'Mental Health Condition', 'Development', 'Hyperactivity', \n",
    "                                                                                        'Other', 'Multiple Disability' ])"
   ]
  },
  {
   "cell_type": "markdown",
   "id": "ecd4e09b",
   "metadata": {},
   "source": [
    "#### 1.7 Recoding Reason for Stop"
   ]
  },
  {
   "cell_type": "code",
   "execution_count": 49,
   "id": "5493a1aa",
   "metadata": {},
   "outputs": [],
   "source": [
    "# recode 'REASON_FOR_STOP' as follows:\n",
    "    # 1 = 'Traffic Violation'\n",
    "    # 2 = 'Reasonable Suspicion'\n",
    "    # 3 = 'Parole/Probation/PRCS/Mandatory Supervision'\n",
    "    # 4 = 'Knowledge of Outstanding Arrest Warrant or Wanted Person'\n",
    "    # 5 = 'Investigtion to Determine whether Person was Truant'\n",
    "    # 6 = 'Consensual Encounter Resulting in Search'\n",
    "    # 7 = 'Possible Conduct Under Education Code'\n",
    "    # 8 = 'Determine whether Student Violated School Policy'\n",
    "    # 99 = 'Unidentified Reason for Stop'\n",
    "    # 999 = 'Unidentified Reason for Stop'\n",
    "    \n",
    "data_oakland['REASON_FOR_STOP'] = data_oakland['REASON_FOR_STOP'].replace([1, 2, 3, 4, 5, 6, 7, 8, 99, 999], ['Traffic Violation', 'Reasonable Suspicion', 'Parole/Probation/PRCS/Mandatory Supervision', \n",
    "                                                                                     'Knowledge of Outstanding Arrest Warrant or Wanted Person', 'Investigtion to Determine whether Person was Truant', \n",
    "                                                                                     'Consensual Encounter Resulting in Search', 'Possible Conduct Under Education Code', \n",
    "                                                                                     'Determine whether Student Violated School Policy', 'Unidentified Reason for Stop', 'Unidentified Reason for Stop'])"
   ]
  },
  {
   "cell_type": "markdown",
   "id": "ac9b7f64",
   "metadata": {},
   "source": [
    "#### 1.8 Recoding Handcuffed"
   ]
  },
  {
   "cell_type": "code",
   "execution_count": 50,
   "id": "bd670dae",
   "metadata": {},
   "outputs": [],
   "source": [
    "# recode 'ADS_HANDCUFFED' as follows:\n",
    "    # 0 = 'Not Handcuffed'\n",
    "    # 1 = 'Handcuffed'\n",
    "\n",
    "data_oakland['ADS_HANDCUFFED'] = data_oakland['ADS_HANDCUFFED'].replace([0,1], ['Not Handcuffed', 'Handcuffed'])"
   ]
  },
  {
   "cell_type": "markdown",
   "id": "d9340bd2",
   "metadata": {},
   "source": [
    "#### 1.9 Recoding Drugs"
   ]
  },
  {
   "cell_type": "code",
   "execution_count": 51,
   "id": "4c1b9275",
   "metadata": {},
   "outputs": [],
   "source": [
    "# recode 'CED_DRUGS' as follows:\n",
    "    # 0 = 'Drugs Not Found'\n",
    "    # 1 = 'Drugs Found'\n",
    "\n",
    "data_oakland['CED_DRUGS'] = data_oakland['CED_DRUGS'].replace([0,1], ['Drugs Not Found', 'Drugs Found'])"
   ]
  },
  {
   "cell_type": "markdown",
   "id": "5b20c817",
   "metadata": {},
   "source": [
    "### 2. Adding / Subtracting Data Columns"
   ]
  },
  {
   "cell_type": "markdown",
   "id": "96735a55",
   "metadata": {},
   "source": [
    "#### 2.1 Adding Police Stop Incident Month/Year"
   ]
  },
  {
   "cell_type": "code",
   "execution_count": 52,
   "id": "20bb37bc",
   "metadata": {},
   "outputs": [],
   "source": [
    "# create new column 'STOP_MONTH_YEAR' from 'DATE_OF_STOP' to get just month of police stop incident\n",
    "data_oakland['stop_month_year'] = data_oakland.apply(lambda row: str(row['DATE_OF_STOP'])[3:], axis=1)"
   ]
  },
  {
   "cell_type": "markdown",
   "id": "43a8040c",
   "metadata": {},
   "source": [
    "#### 2.2 Adding BIPOC / Not BIPOC Group"
   ]
  },
  {
   "cell_type": "code",
   "execution_count": 53,
   "id": "3090f6ae",
   "metadata": {},
   "outputs": [],
   "source": [
    "# create a new function, 'getBIPOC' that determines whether each police stop incident concerns a citizen that is either:\n",
    "    ## 'BIPOC' (i.e., Black, Indigenous, and people of color [i.e., not white])\n",
    "    ## 'white' (i.e., not BIPOC)\n",
    "def getBipoc(bipocValue):\n",
    "    bipoc = bipocValue\n",
    "    group = 0\n",
    "\n",
    "    if bipoc == 'White':\n",
    "             group = 'white'\n",
    "    else:\n",
    "             group = 'BIPOC'\n",
    "    return group"
   ]
  },
  {
   "cell_type": "code",
   "execution_count": 54,
   "id": "de18d757",
   "metadata": {},
   "outputs": [],
   "source": [
    "# apply 'getBipoc' function to 'data_oakland' to make new column, 'race_general'\n",
    "data_oakland['race_general'] = data_oakland['RAE_FULL'].apply(lambda row: getBipoc(row))"
   ]
  },
  {
   "cell_type": "markdown",
   "id": "f142da0c",
   "metadata": {},
   "source": [
    "#### 2.3 Adding Gender Group"
   ]
  },
  {
   "cell_type": "code",
   "execution_count": 55,
   "id": "e48827bd",
   "metadata": {},
   "outputs": [],
   "source": [
    "# create a new function, 'getGenderIdentity' that determines whether each police stop incident concerns a citizen that is either:\n",
    "    ## 'Female' (i.e., 'Female', 'Transgender Woman or Girl')\n",
    "    ## 'Male' (i.e., 'Male', 'Transgender Man or Boy')\n",
    "    ## 'Gender Nonconforming' (i.e., 'Gender Nonconforming')\n",
    "    ## 'Unidentified' (i.e., 'Unidentified')\n",
    "    \n",
    "def getGenderIdentity(genderValue):\n",
    "    gender = genderValue\n",
    "    group = 0\n",
    "\n",
    "    if gender == 'Female':\n",
    "             group = 'Female'\n",
    "    elif gender == 'Transgender Woman or Girl':\n",
    "        group = 'Female'\n",
    "    elif gender == 'Male':\n",
    "        group = 'Male'\n",
    "    elif gender == 'Transgender Man or Boy':\n",
    "        group = 'Male'\n",
    "    elif gender == 'Gender Nonconforming':\n",
    "        group = 'Gender Nonconforming'    \n",
    "    else:\n",
    "             group = 'Unidentified Gender'\n",
    "    return group"
   ]
  },
  {
   "cell_type": "code",
   "execution_count": 56,
   "id": "c3b6caae",
   "metadata": {},
   "outputs": [],
   "source": [
    "# apply 'getGenderIdentity' function to 'data_oakland' to make new column, 'gender_general'\n",
    "data_oakland['gender_general'] = data_oakland['G_FULL'].apply(lambda row: getGenderIdentity(row))"
   ]
  },
  {
   "cell_type": "markdown",
   "id": "60b30848",
   "metadata": {},
   "source": [
    "#### 2.4 Adding Age Group"
   ]
  },
  {
   "cell_type": "code",
   "execution_count": 57,
   "id": "facea08f",
   "metadata": {},
   "outputs": [],
   "source": [
    "# create function, 'getAgeGroup' that takes each police stop incident  and categorizes the concerned citizen into an age group\n",
    "def getAgeGroup(ageValue):\n",
    "    age = int(ageValue)\n",
    "    group = 0\n",
    "    \n",
    "    if age <= 9:\n",
    "        group = 'Less than 10' \n",
    "    elif age > 9 and age < 21:\n",
    "        group = '10-20'\n",
    "    elif age > 20 and age < 31:\n",
    "        group = '21-30'\n",
    "    elif age > 30 and age < 41:\n",
    "        group = '31-40'\n",
    "    elif age > 40 and age < 51:\n",
    "        group = '41-50'     \n",
    "    elif age > 50 and age < 61:\n",
    "        group = '51-60'\n",
    "    elif age > 60 and age < 71:\n",
    "        group = '61-70'\n",
    "    elif age > 70 and age < 81:\n",
    "        group = '71-80'\n",
    "    elif age > 80 and age < 91:\n",
    "        group = '81-90'\n",
    "    elif age > 90 and age < 101:\n",
    "        group = '91-100'      \n",
    "    else:\n",
    "        group = 'More than 100'\n",
    "    return group"
   ]
  },
  {
   "cell_type": "code",
   "execution_count": 58,
   "id": "5378680f",
   "metadata": {},
   "outputs": [],
   "source": [
    "# apply 'getAgeGroup' function to 'data_oakland' to make new column, 'age_group'\n",
    "data_oakland['age_group'] = data_oakland['AGE'].apply(lambda row: getAgeGroup(row))"
   ]
  },
  {
   "cell_type": "markdown",
   "id": "bfbb3abf",
   "metadata": {},
   "source": [
    "#### 2.5 Adding Disability Group"
   ]
  },
  {
   "cell_type": "code",
   "execution_count": 59,
   "id": "f56c542d",
   "metadata": {},
   "outputs": [],
   "source": [
    "# create a new function, 'getDisability' that determines whether each police stop incident concerns a citizen that is either:\n",
    "    ## 'Not Disabled' (i.e., 'No Disability' )\n",
    "    ## 'Disabled' (i.e., 'Mental Health Condition', 'Speech Impairment', 'Multiple Disability', 'Deafness', 'Development', 'Blind','Hyperactivity', or 'Other')\n",
    "\n",
    "def getDisability(disabilityValue):\n",
    "    disability = disabilityValue\n",
    "    group = 0\n",
    "\n",
    "    if disability == 'No Disability':\n",
    "             group = 'Not Disabled'\n",
    "    else:\n",
    "             group = 'Disabled'\n",
    "    return group"
   ]
  },
  {
   "cell_type": "code",
   "execution_count": 60,
   "id": "e23ff616",
   "metadata": {},
   "outputs": [],
   "source": [
    "# apply 'getDisability' function to 'data_oakland' to make new column, 'disability_general'\n",
    "data_oakland['disability_general'] = data_oakland['PD_FULL'].apply(lambda row: getDisability(row))"
   ]
  },
  {
   "cell_type": "markdown",
   "id": "77022bc1",
   "metadata": {},
   "source": [
    "#### 2.6 Adding Other Columns"
   ]
  },
  {
   "cell_type": "code",
   "execution_count": 61,
   "id": "2096f94f",
   "metadata": {},
   "outputs": [],
   "source": [
    "# create new 'data_oakland' columns, that both sum and take the mean of important columns of interest to create counts and averages per demographic category of interest\n",
    "data_oakland['BIPOC'] = data_oakland['race_general'].apply(lambda x: 1 if x=='BIPOC' else 0)\n",
    "data_oakland['white'] = data_oakland['race_general'].apply(lambda x: 1 if x=='white' else 0)\n",
    "data_oakland['Hispanic or Latino'] = data_oakland['RAE_FULL'].apply(lambda x: 1 if x=='Hispanic or Latino' else 0)\n",
    "data_oakland['Black or African American'] = data_oakland['RAE_FULL'].apply(lambda x: 1 if x=='Black or African American' else 0)\n",
    "data_oakland['Asian'] = data_oakland['RAE_FULL'].apply(lambda x: 1 if x=='Asian' else 0)\n",
    "data_oakland['Multiracial'] = data_oakland['RAE_FULL'].apply(lambda x: 1 if x=='Multiracial' else 0)\n",
    "data_oakland['Middle Eastern or South Asian'] = data_oakland['RAE_FULL'].apply(lambda x: 1 if x=='Middle Eastern or South Asian' else 0)\n",
    "data_oakland['Pacific Islander'] = data_oakland['RAE_FULL'].apply(lambda x: 1 if x=='Pacific Islander' else 0)\n",
    "data_oakland['Native American'] = data_oakland['RAE_FULL'].apply(lambda x: 1 if x=='Native American' else 0)\n",
    "\n",
    "data_oakland['male'] = data_oakland['gender_general'].apply(lambda x: 1 if x=='Male'  else 0)\n",
    "data_oakland['female'] = data_oakland['gender_general'].apply(lambda x: 1 if x=='Female' else 0)\n",
    "data_oakland['unidentified gender'] = data_oakland['gender_general'].apply(lambda x: 1 if x=='Unidentified Gender' else 0)\n",
    "data_oakland['gender nonconforming'] = data_oakland['gender_general'].apply(lambda x: 1 if x=='Gender Nonconforming' else 0)\n",
    "\n",
    "data_oakland['lgbt'] = data_oakland['LGBT'].apply(lambda x: 1 if x=='LGBT' else 0)\n",
    "data_oakland['not lgbt'] = data_oakland['LGBT'].apply(lambda x: 1 if x=='Not LGBT' else 0)\n",
    "\n",
    "data_oakland['less than 10 years'] = data_oakland['age_group'].apply(lambda x: 1 if x=='Less than 10' else 0)\n",
    "data_oakland['aged 10-20'] = data_oakland['age_group'].apply(lambda x: 1 if x=='10-20' else 0)\n",
    "data_oakland['aged 21-30'] = data_oakland['age_group'].apply(lambda x: 1 if x=='21-30' else 0)\n",
    "data_oakland['aged 31-40'] = data_oakland['age_group'].apply(lambda x: 1 if x=='31-40' else 0)\n",
    "data_oakland['aged 41-50'] = data_oakland['age_group'].apply(lambda x: 1 if x=='41-50' else 0)\n",
    "data_oakland['aged 51-60'] = data_oakland['age_group'].apply(lambda x: 1 if x=='51-60' else 0)\n",
    "data_oakland['aged 61-70'] = data_oakland['age_group'].apply(lambda x: 1 if x=='61-70' else 0)\n",
    "data_oakland['aged 71-80'] = data_oakland['age_group'].apply(lambda x: 1 if x=='71-80' else 0)\n",
    "data_oakland['aged 81-90'] = data_oakland['age_group'].apply(lambda x: 1 if x=='81-90' else 0)\n",
    "data_oakland['aged 91-100'] = data_oakland['age_group'].apply(lambda x: 1 if x=='91-100' else 0)\n",
    "data_oakland['more than 100 years'] = data_oakland['age_group'].apply(lambda x: 1 if x=='More than 100' else 0)\n",
    "\n",
    "data_oakland['full english fluency'] = data_oakland['LIMITED_ENGLISH_FLUENCY'].apply(lambda x: 1 if x=='Full English Fluency' else 0)\n",
    "data_oakland['limited english fluency'] = data_oakland['LIMITED_ENGLISH_FLUENCY'].apply(lambda x: 1 if x=='Limited English Fluency' else 0)\n",
    "\n",
    "data_oakland['disabled'] = data_oakland['disability_general'].apply(lambda x: 1 if x=='Disabled' else 0)\n",
    "data_oakland['not disabled'] = data_oakland['disability_general'].apply(lambda x: 1 if x=='Not Disabled' else 0)\n",
    "data_oakland['mental health condition'] = data_oakland['PD_FULL'].apply(lambda x: 1 if x=='Mental Health Condition' else 0)\n",
    "data_oakland['speech impairment'] = data_oakland['PD_FULL'].apply(lambda x: 1 if x=='Speech Impairment' else 0)\n",
    "data_oakland['multiple disability'] = data_oakland['PD_FULL'].apply(lambda x: 1 if x=='Multiple Disability' else 0)\n",
    "data_oakland['deafness'] = data_oakland['PD_FULL'].apply(lambda x: 1 if x=='Deafness' else 0)\n",
    "data_oakland['development disability'] = data_oakland['PD_FULL'].apply(lambda x: 1 if x=='Development' else 0)\n",
    "data_oakland['blind'] = data_oakland['PD_FULL'].apply(lambda x: 1 if x=='Blind' else 0)\n",
    "data_oakland['hyperactivity'] = data_oakland['PD_FULL'].apply(lambda x: 1 if x=='Hyperactivity' else 0)\n",
    "data_oakland['other disability'] = data_oakland['PD_FULL'].apply(lambda x: 1 if x=='Other' else 0)\n",
    "\n",
    "data_oakland['traffic violation'] = data_oakland['REASON_FOR_STOP'].apply(lambda x: 1 if x=='Traffic Violation' else 0)\n",
    "data_oakland['reasonable suspicion'] = data_oakland['REASON_FOR_STOP'].apply(lambda x: 1 if x=='Reasonable Suspicion' else 0)\n",
    "data_oakland['knowledge of outstanding arrest warrant or wanted person'] = data_oakland['REASON_FOR_STOP'].apply(lambda x: 1 if x=='Knowledge of Outstanding Arrest Warrant or Wanted Person' else 0)\n",
    "data_oakland['consensual encounter resulting in search'] = data_oakland['REASON_FOR_STOP'].apply(lambda x: 1 if x=='Consensual Encounter Resulting in Search' else 0)\n",
    "data_oakland['parole/probation/PRCS/mandatory supervision'] = data_oakland['REASON_FOR_STOP'].apply(lambda x: 1 if x=='Parole/Probation/PRCS/Mandatory Supervision' else 0)\n",
    "data_oakland['investigtion to determine whether person was truant'] = data_oakland['REASON_FOR_STOP'].apply(lambda x: 1 if x=='Investigtion to Determine whether Person was Truant' else 0)\n",
    "data_oakland['possible conduct under education code'] = data_oakland['REASON_FOR_STOP'].apply(lambda x: 1 if x=='Possible Conduct Under Education Code' else 0)\n",
    "data_oakland['unidentified reason for stop'] = data_oakland['REASON_FOR_STOP'].apply(lambda x: 1 if x=='Unidentified Reason for Stop' else 0)\n",
    "data_oakland['determine whether student violated school policy'] = data_oakland['REASON_FOR_STOP'].apply(lambda x: 1 if x=='Determine Whether Student Violated School Policy' else 0)\n",
    "\n",
    "data_oakland['jan_2019'] = data_oakland['stop_month_year'].apply(lambda x: 1 if x=='JAN-19' else 0)\n",
    "data_oakland['feb_2019'] = data_oakland['stop_month_year'].apply(lambda x: 1 if x=='FEB-19' else 0)\n",
    "data_oakland['mar_2019'] = data_oakland['stop_month_year'].apply(lambda x: 1 if x=='MAR-19' else 0)\n",
    "data_oakland['apr_2019'] = data_oakland['stop_month_year'].apply(lambda x: 1 if x=='APR-19' else 0)\n",
    "data_oakland['may_2019'] = data_oakland['stop_month_year'].apply(lambda x: 1 if x=='MAY-19' else 0)\n",
    "data_oakland['jun_2019'] = data_oakland['stop_month_year'].apply(lambda x: 1 if x=='JUN-19' else 0)\n",
    "data_oakland['jul_2019'] = data_oakland['stop_month_year'].apply(lambda x: 1 if x=='JUL-19' else 0)\n",
    "data_oakland['aug_2019'] = data_oakland['stop_month_year'].apply(lambda x: 1 if x=='AUG-19' else 0)\n",
    "data_oakland['sep_2019'] = data_oakland['stop_month_year'].apply(lambda x: 1 if x=='SEP-19' else 0)\n",
    "data_oakland['oct_2019'] = data_oakland['stop_month_year'].apply(lambda x: 1 if x=='OCT-19' else 0)\n",
    "data_oakland['nov_2019'] = data_oakland['stop_month_year'].apply(lambda x: 1 if x=='NOV-19' else 0)\n",
    "data_oakland['dec_2019'] = data_oakland['stop_month_year'].apply(lambda x: 1 if x=='DEC-19' else 0)\n",
    "\n",
    "data_oakland['handcuffed'] = data_oakland['ADS_HANDCUFFED'].apply(lambda x: 1 if x=='Handcuffed' else 0)\n",
    "data_oakland['not handcuffed'] = data_oakland['ADS_HANDCUFFED'].apply(lambda x: 1 if x=='Not Handcuffed' else 0)\n",
    "\n",
    "data_oakland['drugs found'] = data_oakland['CED_DRUGS'].apply(lambda x: 1 if x=='Drugs Found' else 0)\n",
    "data_oakland['drugs not found'] = data_oakland['CED_DRUGS'].apply(lambda x: 1 if x=='Drugs Not Found' else 0)"
   ]
  },
  {
   "cell_type": "markdown",
   "id": "e2e869a2",
   "metadata": {},
   "source": [
    "#### 2.6 Subtracting Other Columns"
   ]
  },
  {
   "cell_type": "code",
   "execution_count": 62,
   "id": "3ae3cf7c",
   "metadata": {},
   "outputs": [],
   "source": [
    "# drop unnecessary columns\n",
    "data_oakland = data_oakland.drop(['DOJ_RECORD_ID', 'PERSON_NUMBER', 'AGENCY_ORI', 'TIME_OF_STOP', 'DATE_OF_STOP', 'STOP_DURATION', 'CLOSEST_CITY', 'SCHOOL_CODE', \n",
    "                                  'SCHOOL_NAME', 'STOP_STUDENT', 'K12_SCHOOL_GROUNDS', 'LGBT', 'RFS_TRAFFIC_VIOLATION_TYPE', 'RFS_TRAFFIC_VIOLATION_CODE', 'RFS_RS_CODE', \n",
    "                                  'RFS_RS_OFF_WITNESS', 'RFS_RS_MATCH_SUSPECT', 'RFS_RS_WITNESS_ID', 'RFS_RS_CARRY_SUS_OBJECT', 'RFS_RS_ACTIONS_INDICATIVE', \n",
    "                                  'RFS_RS_SUSPECT_LOOK', 'RFS_RS_DRUG_TRANS', 'RFS_RS_VIOLENT_CRIME', 'RFS_RS_REASON_SUSP', 'RFS_EC_DISCIPLINE_CODE', 'RFS_EC_DISCIPLINE', \n",
    "                                  'CALL_FOR_SERVICE', 'ADS_REMOVED_VEHICLE_ORDER', 'ADS_REMOVED_VEHICLE_PHYCONTACT', 'ADS_SOBRIETY_TEST', 'ADS_CURB_DETENT', \n",
    "                                  'ADS_PATCAR_DETENT', 'ADS_CANINE_SEARCH', 'ADS_FIREARM_POINT', 'ADS_FIREARM_DISCHARGE', 'ADS_ELECT_DEVICE', 'ADS_IMPACT_DISCHARGE', \n",
    "                                  'ADS_CANINE_BITE', 'ADS_BATON', 'ADS_CHEM_SPRAY', 'ADS_OTHER_CONTACT', 'ADS_PHOTO', 'ADS_ASKED_SEARCH_PER', 'ADS_SEARCH_PERSON', \n",
    "                                  'ADS_ASKED_SEARCH_PROP', 'ADS_SEARCH_PROPERTY', 'ADS_PROP_SEIZE', 'ADS_VEHICLE_IMPOUND', 'ADS_WRITTEN_STATEMENT', 'ADS_NO_ACTIONS', \n",
    "                                  'ADS_SEARCH_PERS_CONSEN', 'ADS_SEARCH_PROP_CONSEN', 'BFS_CONSENT_GIVEN', 'BFS_OFFICER_SAFETY', 'BFS_SEARCH_WARRANT', 'BFS_PAROLE', \n",
    "                                  'BFS_SUSPECT_WEAPON', 'BFS_VISIBLE_CONTRABAND', 'BFS_ODOR_CONTRABAND', 'BFS_CANINE_DETECT', 'BFS_EVIDENCE', 'BFS_INCIDENT', \n",
    "                                  'BFS_EXIGENT_CIRCUM', 'BFS_VEHICLE_INVENT', 'BFS_SCHOOL_POLICY', 'CED_NONE_CONTRABAND', 'CED_FIREARM', 'CED_AMMUNITION', 'CED_WEAPON', \n",
    "                                  'CED_ALCOHOL', 'CED_MONEY', 'CED_DRUG_PARAPHERNALIA', 'CED_STOLEN_PROP', 'CED_ELECT_DEVICE', 'CED_OTHER_CONTRABAND', 'BPS_SAFEKEEPING', \n",
    "                                  'BPS_CONTRABAND', 'BPS_EVIDENCE', 'BPS_IMPOUND_VEHICLE', 'BPS_ABANDON_PROP', 'BPS_VIOLATE_SCHOOL', 'TPS_FIREARM', 'TPS_AMMUNITION', \n",
    "                                  'TPS_WEAPON', 'TPS_DRUGS', 'TPS_ALCOHOL', 'TPS_MONEY', 'TPS_DRUG_PARAPHERNALIA', 'TPS_STOLEN_PROP', 'TPS_CELLPHONE', 'TPS_VEHICLE',\n",
    "                                  'TPS_CONTRABAND', 'ROS_NO_ACTION', 'ROS_WARNING', 'ROS_CITATION', 'ROS_IN_FIELD_CITE_RELEASE', 'ROS_CUSTODIAL_WARRANT', \n",
    "                                  'ROS_CUSTODIAL_WITHOUT_WARRANT', 'ROS_FIELD_INTERVIEW_CARD', 'ROS_NONCRIMINAL_TRANSPORT', 'ROS_CONTACT_LEGAL_GUARDIAN', 'ROS_PSYCH_HOLD', \n",
    "                                  'ROS_US_HOMELAND', 'ROS_REFERRAL_SCHOOL_ADMIN', 'ROS_REFERRAL_SCHOOL_COUNSELOR', 'ROS_WARNING_CDS', 'ROS_CITATION_CDS', \n",
    "                                  'ROS_IN_FIELD_CITE_RELEASE_CDS','ROS_CUSTODIAL_WOUT_WARRANT_CDS'  ], axis=1)"
   ]
  },
  {
   "cell_type": "markdown",
   "id": "492ccdb3",
   "metadata": {},
   "source": [
    "#### 2.7 Renaming Columns"
   ]
  },
  {
   "cell_type": "code",
   "execution_count": 63,
   "id": "f737c844",
   "metadata": {},
   "outputs": [
    {
     "name": "stdout",
     "output_type": "stream",
     "text": [
      "Index(['AGENCY_NAME', 'RAE_FULL', 'G_FULL', 'AGE', 'LIMITED_ENGLISH_FLUENCY',\n",
      "       'PD_FULL', 'REASON_FOR_STOP', 'ADS_HANDCUFFED', 'CED_DRUGS',\n",
      "       'stop_month_year', 'race_general', 'gender_general', 'age_group',\n",
      "       'disability_general', 'BIPOC', 'white', 'Hispanic or Latino',\n",
      "       'Black or African American', 'Asian', 'Multiracial',\n",
      "       'Middle Eastern or South Asian', 'Pacific Islander', 'Native American',\n",
      "       'male', 'female', 'unidentified gender', 'gender nonconforming', 'lgbt',\n",
      "       'not lgbt', 'less than 10 years', 'aged 10-20', 'aged 21-30',\n",
      "       'aged 31-40', 'aged 41-50', 'aged 51-60', 'aged 61-70', 'aged 71-80',\n",
      "       'aged 81-90', 'aged 91-100', 'more than 100 years',\n",
      "       'full english fluency', 'limited english fluency', 'disabled',\n",
      "       'not disabled', 'mental health condition', 'speech impairment',\n",
      "       'multiple disability', 'deafness', 'development disability', 'blind',\n",
      "       'hyperactivity', 'other disability', 'traffic violation',\n",
      "       'reasonable suspicion',\n",
      "       'knowledge of outstanding arrest warrant or wanted person',\n",
      "       'consensual encounter resulting in search',\n",
      "       'parole/probation/PRCS/mandatory supervision',\n",
      "       'investigtion to determine whether person was truant',\n",
      "       'possible conduct under education code', 'unidentified reason for stop',\n",
      "       'determine whether student violated school policy', 'jan_2019',\n",
      "       'feb_2019', 'mar_2019', 'apr_2019', 'may_2019', 'jun_2019', 'jul_2019',\n",
      "       'aug_2019', 'sep_2019', 'oct_2019', 'nov_2019', 'dec_2019',\n",
      "       'handcuffed', 'not handcuffed', 'drugs found', 'drugs not found'],\n",
      "      dtype='object')\n"
     ]
    }
   ],
   "source": [
    "# get column names in 'data_oakland'\n",
    "print(data_oakland.columns)\n",
    "\n",
    "# rename columns in 'data_oakland' \n",
    "data_oakland.columns = ['agency name', 'race', 'gender', 'age', 'fluency',\n",
    "       'disability', 'reason for stop', 'ads_handcuffed', 'ced_drugs',\n",
    "       'stop_month_year', 'race_general', 'gender_general', 'age_group',\n",
    "       'disability_general', 'BIPOC', 'white', 'Hispanic or Latino',\n",
    "       'Black or African American', 'Asian', 'Multiracial',\n",
    "       'Middle Eastern or South Asian', 'Pacific Islander', 'Native American',\n",
    "       'male', 'female', 'unidentified gender', 'gender nonconforming', 'lgbt',\n",
    "       'not lgbt', 'less than 10 years', 'aged 10-20', 'aged 21-30',\n",
    "       'aged 31-40', 'aged 41-50', 'aged 51-60', 'aged 61-70', 'aged 71-80',\n",
    "       'aged 81-90', 'aged 91-100', 'more than 100 years',\n",
    "       'full english fluency', 'limited english fluency', 'disabled',\n",
    "       'not disabled', 'mental health condition', 'speech impairment',\n",
    "       'multiple disability', 'deafness', 'development disability', 'blind',\n",
    "       'hyperactivity', 'other disability', 'traffic violation',\n",
    "       'reasonable suspicion',\n",
    "       'knowledge of outstanding arrest warrant or wanted person',\n",
    "       'consensual encounter resulting in search',\n",
    "       'parole/probation/PRCS/mandatory supervision',\n",
    "       'investigtion to determine whether person was truant',\n",
    "       'possible conduct under education code', 'unidentified reason for stop',\n",
    "       'determine whether student violated school policy', 'jan_2019',\n",
    "       'feb_2019', 'mar_2019', 'apr_2019', 'may_2019', 'jun_2019', 'jul_2019',\n",
    "       'aug_2019', 'sep_2019', 'oct_2019', 'nov_2019', 'dec_2019',\n",
    "       'handcuffed', 'not handcuffed', 'drugs found', 'drugs not found']"
   ]
  },
  {
   "cell_type": "markdown",
   "id": "0c6660bd",
   "metadata": {},
   "source": [
    "#### 3. Additional Data Manipulations"
   ]
  },
  {
   "cell_type": "code",
   "execution_count": 64,
   "id": "abc9ef22",
   "metadata": {},
   "outputs": [
    {
     "data": {
      "text/html": [
       "<div>\n",
       "<style scoped>\n",
       "    .dataframe tbody tr th:only-of-type {\n",
       "        vertical-align: middle;\n",
       "    }\n",
       "\n",
       "    .dataframe tbody tr th {\n",
       "        vertical-align: top;\n",
       "    }\n",
       "\n",
       "    .dataframe thead th {\n",
       "        text-align: right;\n",
       "    }\n",
       "</style>\n",
       "<table border=\"1\" class=\"dataframe\">\n",
       "  <thead>\n",
       "    <tr style=\"text-align: right;\">\n",
       "      <th></th>\n",
       "      <th>reason for stop</th>\n",
       "      <th>BIPOC</th>\n",
       "      <th>white</th>\n",
       "      <th>Hispanic or Latino</th>\n",
       "      <th>Black or African American</th>\n",
       "      <th>Asian</th>\n",
       "      <th>Multiracial</th>\n",
       "      <th>Middle Eastern or South Asian</th>\n",
       "      <th>Pacific Islander</th>\n",
       "      <th>Native American</th>\n",
       "      <th>...</th>\n",
       "      <th>jul_2019</th>\n",
       "      <th>aug_2019</th>\n",
       "      <th>sep_2019</th>\n",
       "      <th>oct_2019</th>\n",
       "      <th>nov_2019</th>\n",
       "      <th>dec_2019</th>\n",
       "      <th>handcuffed</th>\n",
       "      <th>not handcuffed</th>\n",
       "      <th>drugs found</th>\n",
       "      <th>drugs not found</th>\n",
       "    </tr>\n",
       "  </thead>\n",
       "  <tbody>\n",
       "    <tr>\n",
       "      <th>0</th>\n",
       "      <td>Consensual Encounter Resulting in Search</td>\n",
       "      <td>136</td>\n",
       "      <td>30</td>\n",
       "      <td>39</td>\n",
       "      <td>87</td>\n",
       "      <td>5</td>\n",
       "      <td>1</td>\n",
       "      <td>2</td>\n",
       "      <td>2</td>\n",
       "      <td>0</td>\n",
       "      <td>...</td>\n",
       "      <td>13</td>\n",
       "      <td>16</td>\n",
       "      <td>7</td>\n",
       "      <td>9</td>\n",
       "      <td>8</td>\n",
       "      <td>7</td>\n",
       "      <td>56</td>\n",
       "      <td>110</td>\n",
       "      <td>22</td>\n",
       "      <td>144</td>\n",
       "    </tr>\n",
       "    <tr>\n",
       "      <th>1</th>\n",
       "      <td>Investigtion to Determine whether Person was T...</td>\n",
       "      <td>29</td>\n",
       "      <td>3</td>\n",
       "      <td>11</td>\n",
       "      <td>16</td>\n",
       "      <td>2</td>\n",
       "      <td>0</td>\n",
       "      <td>0</td>\n",
       "      <td>0</td>\n",
       "      <td>0</td>\n",
       "      <td>...</td>\n",
       "      <td>6</td>\n",
       "      <td>0</td>\n",
       "      <td>4</td>\n",
       "      <td>3</td>\n",
       "      <td>2</td>\n",
       "      <td>2</td>\n",
       "      <td>7</td>\n",
       "      <td>25</td>\n",
       "      <td>1</td>\n",
       "      <td>31</td>\n",
       "    </tr>\n",
       "    <tr>\n",
       "      <th>2</th>\n",
       "      <td>Knowledge of Outstanding Arrest Warrant or Wan...</td>\n",
       "      <td>936</td>\n",
       "      <td>66</td>\n",
       "      <td>198</td>\n",
       "      <td>659</td>\n",
       "      <td>38</td>\n",
       "      <td>13</td>\n",
       "      <td>11</td>\n",
       "      <td>12</td>\n",
       "      <td>5</td>\n",
       "      <td>...</td>\n",
       "      <td>103</td>\n",
       "      <td>95</td>\n",
       "      <td>91</td>\n",
       "      <td>81</td>\n",
       "      <td>59</td>\n",
       "      <td>70</td>\n",
       "      <td>838</td>\n",
       "      <td>164</td>\n",
       "      <td>104</td>\n",
       "      <td>898</td>\n",
       "    </tr>\n",
       "    <tr>\n",
       "      <th>3</th>\n",
       "      <td>Parole/Probation/PRCS/Mandatory Supervision</td>\n",
       "      <td>222</td>\n",
       "      <td>13</td>\n",
       "      <td>46</td>\n",
       "      <td>154</td>\n",
       "      <td>14</td>\n",
       "      <td>5</td>\n",
       "      <td>3</td>\n",
       "      <td>0</td>\n",
       "      <td>0</td>\n",
       "      <td>...</td>\n",
       "      <td>30</td>\n",
       "      <td>19</td>\n",
       "      <td>10</td>\n",
       "      <td>5</td>\n",
       "      <td>8</td>\n",
       "      <td>7</td>\n",
       "      <td>154</td>\n",
       "      <td>81</td>\n",
       "      <td>40</td>\n",
       "      <td>195</td>\n",
       "    </tr>\n",
       "    <tr>\n",
       "      <th>4</th>\n",
       "      <td>Possible Conduct Under Education Code</td>\n",
       "      <td>1</td>\n",
       "      <td>0</td>\n",
       "      <td>1</td>\n",
       "      <td>0</td>\n",
       "      <td>0</td>\n",
       "      <td>0</td>\n",
       "      <td>0</td>\n",
       "      <td>0</td>\n",
       "      <td>0</td>\n",
       "      <td>...</td>\n",
       "      <td>0</td>\n",
       "      <td>0</td>\n",
       "      <td>0</td>\n",
       "      <td>0</td>\n",
       "      <td>1</td>\n",
       "      <td>0</td>\n",
       "      <td>0</td>\n",
       "      <td>1</td>\n",
       "      <td>0</td>\n",
       "      <td>1</td>\n",
       "    </tr>\n",
       "    <tr>\n",
       "      <th>5</th>\n",
       "      <td>Reasonable Suspicion</td>\n",
       "      <td>11661</td>\n",
       "      <td>1917</td>\n",
       "      <td>3126</td>\n",
       "      <td>7599</td>\n",
       "      <td>471</td>\n",
       "      <td>106</td>\n",
       "      <td>231</td>\n",
       "      <td>108</td>\n",
       "      <td>20</td>\n",
       "      <td>...</td>\n",
       "      <td>1335</td>\n",
       "      <td>1243</td>\n",
       "      <td>1123</td>\n",
       "      <td>1020</td>\n",
       "      <td>1034</td>\n",
       "      <td>1001</td>\n",
       "      <td>7789</td>\n",
       "      <td>5789</td>\n",
       "      <td>723</td>\n",
       "      <td>12855</td>\n",
       "    </tr>\n",
       "    <tr>\n",
       "      <th>6</th>\n",
       "      <td>Traffic Violation</td>\n",
       "      <td>8126</td>\n",
       "      <td>1236</td>\n",
       "      <td>2607</td>\n",
       "      <td>4330</td>\n",
       "      <td>642</td>\n",
       "      <td>158</td>\n",
       "      <td>330</td>\n",
       "      <td>55</td>\n",
       "      <td>4</td>\n",
       "      <td>...</td>\n",
       "      <td>1082</td>\n",
       "      <td>967</td>\n",
       "      <td>633</td>\n",
       "      <td>578</td>\n",
       "      <td>613</td>\n",
       "      <td>467</td>\n",
       "      <td>767</td>\n",
       "      <td>8595</td>\n",
       "      <td>539</td>\n",
       "      <td>8823</td>\n",
       "    </tr>\n",
       "    <tr>\n",
       "      <th>7</th>\n",
       "      <td>Unidentified Reason for Stop</td>\n",
       "      <td>16</td>\n",
       "      <td>3</td>\n",
       "      <td>3</td>\n",
       "      <td>11</td>\n",
       "      <td>1</td>\n",
       "      <td>0</td>\n",
       "      <td>1</td>\n",
       "      <td>0</td>\n",
       "      <td>0</td>\n",
       "      <td>...</td>\n",
       "      <td>1</td>\n",
       "      <td>2</td>\n",
       "      <td>0</td>\n",
       "      <td>1</td>\n",
       "      <td>1</td>\n",
       "      <td>2</td>\n",
       "      <td>3</td>\n",
       "      <td>16</td>\n",
       "      <td>0</td>\n",
       "      <td>19</td>\n",
       "    </tr>\n",
       "  </tbody>\n",
       "</table>\n",
       "<p>8 rows × 64 columns</p>\n",
       "</div>"
      ],
      "text/plain": [
       "                                     reason for stop  BIPOC  white  \\\n",
       "0           Consensual Encounter Resulting in Search    136     30   \n",
       "1  Investigtion to Determine whether Person was T...     29      3   \n",
       "2  Knowledge of Outstanding Arrest Warrant or Wan...    936     66   \n",
       "3        Parole/Probation/PRCS/Mandatory Supervision    222     13   \n",
       "4              Possible Conduct Under Education Code      1      0   \n",
       "5                               Reasonable Suspicion  11661   1917   \n",
       "6                                  Traffic Violation   8126   1236   \n",
       "7                       Unidentified Reason for Stop     16      3   \n",
       "\n",
       "   Hispanic or Latino  Black or African American  Asian  Multiracial  \\\n",
       "0                  39                         87      5            1   \n",
       "1                  11                         16      2            0   \n",
       "2                 198                        659     38           13   \n",
       "3                  46                        154     14            5   \n",
       "4                   1                          0      0            0   \n",
       "5                3126                       7599    471          106   \n",
       "6                2607                       4330    642          158   \n",
       "7                   3                         11      1            0   \n",
       "\n",
       "   Middle Eastern or South Asian  Pacific Islander  Native American  ...  \\\n",
       "0                              2                 2                0  ...   \n",
       "1                              0                 0                0  ...   \n",
       "2                             11                12                5  ...   \n",
       "3                              3                 0                0  ...   \n",
       "4                              0                 0                0  ...   \n",
       "5                            231               108               20  ...   \n",
       "6                            330                55                4  ...   \n",
       "7                              1                 0                0  ...   \n",
       "\n",
       "   jul_2019  aug_2019  sep_2019  oct_2019  nov_2019  dec_2019  handcuffed  \\\n",
       "0        13        16         7         9         8         7          56   \n",
       "1         6         0         4         3         2         2           7   \n",
       "2       103        95        91        81        59        70         838   \n",
       "3        30        19        10         5         8         7         154   \n",
       "4         0         0         0         0         1         0           0   \n",
       "5      1335      1243      1123      1020      1034      1001        7789   \n",
       "6      1082       967       633       578       613       467         767   \n",
       "7         1         2         0         1         1         2           3   \n",
       "\n",
       "   not handcuffed  drugs found  drugs not found  \n",
       "0             110           22              144  \n",
       "1              25            1               31  \n",
       "2             164          104              898  \n",
       "3              81           40              195  \n",
       "4               1            0                1  \n",
       "5            5789          723            12855  \n",
       "6            8595          539             8823  \n",
       "7              16            0               19  \n",
       "\n",
       "[8 rows x 64 columns]"
      ]
     },
     "execution_count": 64,
     "metadata": {},
     "output_type": "execute_result"
    }
   ],
   "source": [
    "# find demographic attributes per 'reason for stop'\n",
    "stop_composition = data_oakland.groupby('reason for stop').agg({'BIPOC': 'sum', \n",
    "                                            'white': 'sum',\n",
    "                                            'Hispanic or Latino': 'sum', \n",
    "                                            'Black or African American': 'sum',\n",
    "                                            'Asian': 'sum', \n",
    "                                            'Multiracial': 'sum', \n",
    "                                            'Middle Eastern or South Asian': 'sum', \n",
    "                                            'Pacific Islander': 'sum',\n",
    "                                            'Native American': 'sum',\n",
    "                                            'male': 'sum',\n",
    "                                            'female': 'sum',\n",
    "                                            'unidentified gender': 'sum',\n",
    "                                            'gender nonconforming': 'sum',\n",
    "                                            'lgbt': 'sum', \n",
    "                                            'not lgbt': 'sum',\n",
    "                                            'less than 10 years': 'sum',\n",
    "                                            'aged 10-20': 'sum',\n",
    "                                            'aged 21-30': 'sum',\n",
    "                                            'aged 31-40': 'sum',\n",
    "                                            'aged 41-50': 'sum',\n",
    "                                            'aged 51-60': 'sum',\n",
    "                                            'aged 61-70': 'sum',\n",
    "                                            'aged 71-80': 'sum',\n",
    "                                            'aged 81-90': 'sum',\n",
    "                                            'aged 91-100': 'sum',\n",
    "                                            'more than 100 years': 'sum', \n",
    "                                            'full english fluency': 'sum',\n",
    "                                            'limited english fluency': 'sum',\n",
    "                                            'disabled': 'sum', \n",
    "                                            'not disabled': 'sum',\n",
    "                                            'mental health condition': 'sum',\n",
    "                                            'speech impairment': 'sum', \n",
    "                                            'multiple disability': 'sum',\n",
    "                                            'deafness': 'sum',\n",
    "                                            'development disability': 'sum',\n",
    "                                            'blind': 'sum', \n",
    "                                            'hyperactivity': 'sum',\n",
    "                                            'other disability': 'sum',\n",
    "                                            'traffic violation': 'sum',\n",
    "                                            'reasonable suspicion': 'sum',\n",
    "                                            'knowledge of outstanding arrest warrant or wanted person': 'sum',\n",
    "                                            'consensual encounter resulting in search': 'sum',\n",
    "                                            'parole/probation/PRCS/mandatory supervision': 'sum',\n",
    "                                            'investigtion to determine whether person was truant': 'sum',\n",
    "                                            'possible conduct under education code': 'sum',\n",
    "                                            'unidentified reason for stop': 'sum',\n",
    "                                            'determine whether student violated school policy': 'sum',\n",
    "                                            'jan_2019': 'sum',\n",
    "                                            'feb_2019': 'sum',\n",
    "                                            'mar_2019': 'sum',\n",
    "                                            'apr_2019': 'sum',\n",
    "                                            'may_2019': 'sum',\n",
    "                                            'jun_2019': 'sum',\n",
    "                                            'jul_2019': 'sum',\n",
    "                                            'aug_2019': 'sum',\n",
    "                                            'sep_2019': 'sum',\n",
    "                                            'oct_2019': 'sum',\n",
    "                                            'nov_2019': 'sum',\n",
    "                                            'dec_2019': 'sum',\n",
    "                                            'handcuffed': 'sum',\n",
    "                                            'not handcuffed': 'sum',\n",
    "                                            'drugs found': 'sum',\n",
    "                                            'drugs not found': 'sum'\n",
    "                                              }).reset_index()[['reason for stop', 'BIPOC', 'white', 'Hispanic or Latino', 'Black or African American', \n",
    "                                                                'Asian', 'Multiracial', 'Middle Eastern or South Asian', 'Pacific Islander', \n",
    "                                                                'Native American', 'male', 'female', 'unidentified gender', 'gender nonconforming', \n",
    "                                                                'lgbt', 'not lgbt', 'less than 10 years', 'aged 10-20', 'aged 21-30', 'aged 31-40',\n",
    "                                                                'aged 41-50', 'aged 51-60', 'aged 61-70', 'aged 71-80', 'aged 81-90', 'aged 91-100', \n",
    "                                                                'more than 100 years', 'full english fluency', 'limited english fluency', 'disabled', \n",
    "                                                                'not disabled', 'mental health condition', 'speech impairment', 'multiple disability', \n",
    "                                                                'deafness', 'development disability', 'blind', 'hyperactivity', 'other disability', \n",
    "                                                                'traffic violation', 'reasonable suspicion',\n",
    "                                                                'knowledge of outstanding arrest warrant or wanted person', \n",
    "                                                                'consensual encounter resulting in search', 'parole/probation/PRCS/mandatory supervision', \n",
    "                                                                'investigtion to determine whether person was truant', 'possible conduct under education code',\n",
    "                                                                'unidentified reason for stop', 'determine whether student violated school policy', 'jan_2019', \n",
    "                                                                'feb_2019', 'mar_2019', 'apr_2019', 'may_2019', 'jun_2019', 'jul_2019', 'aug_2019', 'sep_2019', \n",
    "                                                                'oct_2019', 'nov_2019', 'dec_2019', 'handcuffed', 'not handcuffed', 'drugs found', \n",
    "                                                                'drugs not found']]\n",
    "\n",
    "\n",
    "stop_composition"
   ]
  },
  {
   "cell_type": "code",
   "execution_count": 65,
   "id": "83f52e1c",
   "metadata": {},
   "outputs": [
    {
     "data": {
      "text/html": [
       "<div>\n",
       "<style scoped>\n",
       "    .dataframe tbody tr th:only-of-type {\n",
       "        vertical-align: middle;\n",
       "    }\n",
       "\n",
       "    .dataframe tbody tr th {\n",
       "        vertical-align: top;\n",
       "    }\n",
       "\n",
       "    .dataframe thead th {\n",
       "        text-align: right;\n",
       "    }\n",
       "</style>\n",
       "<table border=\"1\" class=\"dataframe\">\n",
       "  <thead>\n",
       "    <tr style=\"text-align: right;\">\n",
       "      <th></th>\n",
       "      <th>ads_handcuffed</th>\n",
       "      <th>BIPOC</th>\n",
       "      <th>white</th>\n",
       "      <th>Hispanic or Latino</th>\n",
       "      <th>Black or African American</th>\n",
       "      <th>Asian</th>\n",
       "      <th>Multiracial</th>\n",
       "      <th>Middle Eastern or South Asian</th>\n",
       "      <th>Pacific Islander</th>\n",
       "      <th>Native American</th>\n",
       "      <th>...</th>\n",
       "      <th>jul_2019</th>\n",
       "      <th>aug_2019</th>\n",
       "      <th>sep_2019</th>\n",
       "      <th>oct_2019</th>\n",
       "      <th>nov_2019</th>\n",
       "      <th>dec_2019</th>\n",
       "      <th>handcuffed</th>\n",
       "      <th>not handcuffed</th>\n",
       "      <th>drugs found</th>\n",
       "      <th>drugs not found</th>\n",
       "    </tr>\n",
       "  </thead>\n",
       "  <tbody>\n",
       "    <tr>\n",
       "      <th>0</th>\n",
       "      <td>Handcuffed</td>\n",
       "      <td>8621</td>\n",
       "      <td>993</td>\n",
       "      <td>2391</td>\n",
       "      <td>5635</td>\n",
       "      <td>303</td>\n",
       "      <td>72</td>\n",
       "      <td>129</td>\n",
       "      <td>79</td>\n",
       "      <td>12</td>\n",
       "      <td>...</td>\n",
       "      <td>933</td>\n",
       "      <td>917</td>\n",
       "      <td>794</td>\n",
       "      <td>726</td>\n",
       "      <td>713</td>\n",
       "      <td>676</td>\n",
       "      <td>9614</td>\n",
       "      <td>0</td>\n",
       "      <td>939</td>\n",
       "      <td>8675</td>\n",
       "    </tr>\n",
       "    <tr>\n",
       "      <th>1</th>\n",
       "      <td>Not Handcuffed</td>\n",
       "      <td>12506</td>\n",
       "      <td>2275</td>\n",
       "      <td>3640</td>\n",
       "      <td>7221</td>\n",
       "      <td>870</td>\n",
       "      <td>211</td>\n",
       "      <td>449</td>\n",
       "      <td>98</td>\n",
       "      <td>17</td>\n",
       "      <td>...</td>\n",
       "      <td>1637</td>\n",
       "      <td>1425</td>\n",
       "      <td>1074</td>\n",
       "      <td>971</td>\n",
       "      <td>1013</td>\n",
       "      <td>880</td>\n",
       "      <td>0</td>\n",
       "      <td>14781</td>\n",
       "      <td>490</td>\n",
       "      <td>14291</td>\n",
       "    </tr>\n",
       "  </tbody>\n",
       "</table>\n",
       "<p>2 rows × 64 columns</p>\n",
       "</div>"
      ],
      "text/plain": [
       "   ads_handcuffed  BIPOC  white  Hispanic or Latino  \\\n",
       "0      Handcuffed   8621    993                2391   \n",
       "1  Not Handcuffed  12506   2275                3640   \n",
       "\n",
       "   Black or African American  Asian  Multiracial  \\\n",
       "0                       5635    303           72   \n",
       "1                       7221    870          211   \n",
       "\n",
       "   Middle Eastern or South Asian  Pacific Islander  Native American  ...  \\\n",
       "0                            129                79               12  ...   \n",
       "1                            449                98               17  ...   \n",
       "\n",
       "   jul_2019  aug_2019  sep_2019  oct_2019  nov_2019  dec_2019  handcuffed  \\\n",
       "0       933       917       794       726       713       676        9614   \n",
       "1      1637      1425      1074       971      1013       880           0   \n",
       "\n",
       "   not handcuffed  drugs found  drugs not found  \n",
       "0               0          939             8675  \n",
       "1           14781          490            14291  \n",
       "\n",
       "[2 rows x 64 columns]"
      ]
     },
     "execution_count": 65,
     "metadata": {},
     "output_type": "execute_result"
    }
   ],
   "source": [
    "# find demographic attributes per 'ads_handcuffed' (i.e., whether a police stop incident resulted in handcuffing or not)\n",
    "handcuff_composition = data_oakland.groupby('ads_handcuffed').agg({'BIPOC': 'sum', \n",
    "                                            'white': 'sum',\n",
    "                                            'Hispanic or Latino': 'sum', \n",
    "                                            'Black or African American': 'sum',\n",
    "                                            'Asian': 'sum', \n",
    "                                            'Multiracial': 'sum', \n",
    "                                            'Middle Eastern or South Asian': 'sum', \n",
    "                                            'Pacific Islander': 'sum',\n",
    "                                            'Native American': 'sum',\n",
    "                                            'male': 'sum',\n",
    "                                            'female': 'sum',\n",
    "                                            'unidentified gender': 'sum',\n",
    "                                            'gender nonconforming': 'sum',\n",
    "                                            'lgbt': 'sum', \n",
    "                                            'not lgbt': 'sum',\n",
    "                                            'less than 10 years': 'sum',\n",
    "                                            'aged 10-20': 'sum',\n",
    "                                            'aged 21-30': 'sum',\n",
    "                                            'aged 31-40': 'sum',\n",
    "                                            'aged 41-50': 'sum',\n",
    "                                            'aged 51-60': 'sum',\n",
    "                                            'aged 61-70': 'sum',\n",
    "                                            'aged 71-80': 'sum',\n",
    "                                            'aged 81-90': 'sum',\n",
    "                                            'aged 91-100': 'sum',\n",
    "                                            'more than 100 years': 'sum', \n",
    "                                            'full english fluency': 'sum',\n",
    "                                            'limited english fluency': 'sum',\n",
    "                                            'disabled': 'sum', \n",
    "                                            'not disabled': 'sum',\n",
    "                                            'mental health condition': 'sum',\n",
    "                                            'speech impairment': 'sum', \n",
    "                                            'multiple disability': 'sum',\n",
    "                                            'deafness': 'sum',\n",
    "                                            'development disability': 'sum',\n",
    "                                            'blind': 'sum', \n",
    "                                            'hyperactivity': 'sum',\n",
    "                                            'other disability': 'sum',\n",
    "                                            'traffic violation': 'sum',\n",
    "                                            'reasonable suspicion': 'sum',\n",
    "                                            'knowledge of outstanding arrest warrant or wanted person': 'sum',\n",
    "                                            'consensual encounter resulting in search': 'sum',\n",
    "                                            'parole/probation/PRCS/mandatory supervision': 'sum',\n",
    "                                            'investigtion to determine whether person was truant': 'sum',\n",
    "                                            'possible conduct under education code': 'sum',\n",
    "                                            'unidentified reason for stop': 'sum',\n",
    "                                            'determine whether student violated school policy': 'sum',\n",
    "                                            'jan_2019': 'sum',\n",
    "                                            'feb_2019': 'sum',\n",
    "                                            'mar_2019': 'sum',\n",
    "                                            'apr_2019': 'sum',\n",
    "                                            'may_2019': 'sum',\n",
    "                                            'jun_2019': 'sum',\n",
    "                                            'jul_2019': 'sum',\n",
    "                                            'aug_2019': 'sum',\n",
    "                                            'sep_2019': 'sum',\n",
    "                                            'oct_2019': 'sum',\n",
    "                                            'nov_2019': 'sum',\n",
    "                                            'dec_2019': 'sum',\n",
    "                                            'handcuffed': 'sum',\n",
    "                                            'not handcuffed': 'sum',\n",
    "                                            'drugs found': 'sum',\n",
    "                                            'drugs not found': 'sum'\n",
    "                                              }).reset_index()[['ads_handcuffed', 'BIPOC', 'white', 'Hispanic or Latino', 'Black or African American', \n",
    "                                                                'Asian', 'Multiracial', 'Middle Eastern or South Asian', 'Pacific Islander', \n",
    "                                                                'Native American', 'male', 'female', 'unidentified gender', 'gender nonconforming', \n",
    "                                                                'lgbt', 'not lgbt', 'less than 10 years', 'aged 10-20', 'aged 21-30', 'aged 31-40',\n",
    "                                                                'aged 41-50', 'aged 51-60', 'aged 61-70', 'aged 71-80', 'aged 81-90', 'aged 91-100', \n",
    "                                                                'more than 100 years', 'full english fluency', 'limited english fluency', 'disabled', \n",
    "                                                                'not disabled', 'mental health condition', 'speech impairment', 'multiple disability', \n",
    "                                                                'deafness', 'development disability', 'blind', 'hyperactivity', 'other disability', \n",
    "                                                                'traffic violation', 'reasonable suspicion',\n",
    "                                                                'knowledge of outstanding arrest warrant or wanted person', \n",
    "                                                                'consensual encounter resulting in search', 'parole/probation/PRCS/mandatory supervision', \n",
    "                                                                'investigtion to determine whether person was truant', 'possible conduct under education code',\n",
    "                                                                'unidentified reason for stop', 'determine whether student violated school policy', 'jan_2019', \n",
    "                                                                'feb_2019', 'mar_2019', 'apr_2019', 'may_2019', 'jun_2019', 'jul_2019', 'aug_2019', 'sep_2019', \n",
    "                                                                'oct_2019', 'nov_2019', 'dec_2019', 'handcuffed', 'not handcuffed', 'drugs found', \n",
    "                                                                'drugs not found']]\n",
    "\n",
    "\n",
    "handcuff_composition"
   ]
  },
  {
   "cell_type": "code",
   "execution_count": 66,
   "id": "3ceb9b2e",
   "metadata": {},
   "outputs": [
    {
     "data": {
      "text/html": [
       "<div>\n",
       "<style scoped>\n",
       "    .dataframe tbody tr th:only-of-type {\n",
       "        vertical-align: middle;\n",
       "    }\n",
       "\n",
       "    .dataframe tbody tr th {\n",
       "        vertical-align: top;\n",
       "    }\n",
       "\n",
       "    .dataframe thead th {\n",
       "        text-align: right;\n",
       "    }\n",
       "</style>\n",
       "<table border=\"1\" class=\"dataframe\">\n",
       "  <thead>\n",
       "    <tr style=\"text-align: right;\">\n",
       "      <th></th>\n",
       "      <th>ced_drugs</th>\n",
       "      <th>BIPOC</th>\n",
       "      <th>white</th>\n",
       "      <th>Hispanic or Latino</th>\n",
       "      <th>Black or African American</th>\n",
       "      <th>Asian</th>\n",
       "      <th>Multiracial</th>\n",
       "      <th>Middle Eastern or South Asian</th>\n",
       "      <th>Pacific Islander</th>\n",
       "      <th>Native American</th>\n",
       "      <th>...</th>\n",
       "      <th>jul_2019</th>\n",
       "      <th>aug_2019</th>\n",
       "      <th>sep_2019</th>\n",
       "      <th>oct_2019</th>\n",
       "      <th>nov_2019</th>\n",
       "      <th>dec_2019</th>\n",
       "      <th>handcuffed</th>\n",
       "      <th>not handcuffed</th>\n",
       "      <th>drugs found</th>\n",
       "      <th>drugs not found</th>\n",
       "    </tr>\n",
       "  </thead>\n",
       "  <tbody>\n",
       "    <tr>\n",
       "      <th>0</th>\n",
       "      <td>Drugs Found</td>\n",
       "      <td>1337</td>\n",
       "      <td>92</td>\n",
       "      <td>314</td>\n",
       "      <td>937</td>\n",
       "      <td>50</td>\n",
       "      <td>16</td>\n",
       "      <td>16</td>\n",
       "      <td>3</td>\n",
       "      <td>1</td>\n",
       "      <td>...</td>\n",
       "      <td>128</td>\n",
       "      <td>133</td>\n",
       "      <td>106</td>\n",
       "      <td>78</td>\n",
       "      <td>99</td>\n",
       "      <td>75</td>\n",
       "      <td>939</td>\n",
       "      <td>490</td>\n",
       "      <td>1429</td>\n",
       "      <td>0</td>\n",
       "    </tr>\n",
       "    <tr>\n",
       "      <th>1</th>\n",
       "      <td>Drugs Not Found</td>\n",
       "      <td>19790</td>\n",
       "      <td>3176</td>\n",
       "      <td>5717</td>\n",
       "      <td>11919</td>\n",
       "      <td>1123</td>\n",
       "      <td>267</td>\n",
       "      <td>562</td>\n",
       "      <td>174</td>\n",
       "      <td>28</td>\n",
       "      <td>...</td>\n",
       "      <td>2442</td>\n",
       "      <td>2209</td>\n",
       "      <td>1762</td>\n",
       "      <td>1619</td>\n",
       "      <td>1627</td>\n",
       "      <td>1481</td>\n",
       "      <td>8675</td>\n",
       "      <td>14291</td>\n",
       "      <td>0</td>\n",
       "      <td>22966</td>\n",
       "    </tr>\n",
       "  </tbody>\n",
       "</table>\n",
       "<p>2 rows × 64 columns</p>\n",
       "</div>"
      ],
      "text/plain": [
       "         ced_drugs  BIPOC  white  Hispanic or Latino  \\\n",
       "0      Drugs Found   1337     92                 314   \n",
       "1  Drugs Not Found  19790   3176                5717   \n",
       "\n",
       "   Black or African American  Asian  Multiracial  \\\n",
       "0                        937     50           16   \n",
       "1                      11919   1123          267   \n",
       "\n",
       "   Middle Eastern or South Asian  Pacific Islander  Native American  ...  \\\n",
       "0                             16                 3                1  ...   \n",
       "1                            562               174               28  ...   \n",
       "\n",
       "   jul_2019  aug_2019  sep_2019  oct_2019  nov_2019  dec_2019  handcuffed  \\\n",
       "0       128       133       106        78        99        75         939   \n",
       "1      2442      2209      1762      1619      1627      1481        8675   \n",
       "\n",
       "   not handcuffed  drugs found  drugs not found  \n",
       "0             490         1429                0  \n",
       "1           14291            0            22966  \n",
       "\n",
       "[2 rows x 64 columns]"
      ]
     },
     "execution_count": 66,
     "metadata": {},
     "output_type": "execute_result"
    }
   ],
   "source": [
    "# find demographic attributes per 'ced_drugs' (i.e., whether a police stop incident resulted in drugs found or not)\n",
    "drug_composition = data_oakland.groupby('ced_drugs').agg({'BIPOC': 'sum', \n",
    "                                            'white': 'sum',\n",
    "                                            'Hispanic or Latino': 'sum', \n",
    "                                            'Black or African American': 'sum',\n",
    "                                            'Asian': 'sum', \n",
    "                                            'Multiracial': 'sum', \n",
    "                                            'Middle Eastern or South Asian': 'sum', \n",
    "                                            'Pacific Islander': 'sum',\n",
    "                                            'Native American': 'sum',\n",
    "                                            'male': 'sum',\n",
    "                                            'female': 'sum',\n",
    "                                            'unidentified gender': 'sum',\n",
    "                                            'gender nonconforming': 'sum',\n",
    "                                            'lgbt': 'sum', \n",
    "                                            'not lgbt': 'sum',\n",
    "                                            'less than 10 years': 'sum',\n",
    "                                            'aged 10-20': 'sum',\n",
    "                                            'aged 21-30': 'sum',\n",
    "                                            'aged 31-40': 'sum',\n",
    "                                            'aged 41-50': 'sum',\n",
    "                                            'aged 51-60': 'sum',\n",
    "                                            'aged 61-70': 'sum',\n",
    "                                            'aged 71-80': 'sum',\n",
    "                                            'aged 81-90': 'sum',\n",
    "                                            'aged 91-100': 'sum',\n",
    "                                            'more than 100 years': 'sum', \n",
    "                                            'full english fluency': 'sum',\n",
    "                                            'limited english fluency': 'sum',\n",
    "                                            'disabled': 'sum', \n",
    "                                            'not disabled': 'sum',\n",
    "                                            'mental health condition': 'sum',\n",
    "                                            'speech impairment': 'sum', \n",
    "                                            'multiple disability': 'sum',\n",
    "                                            'deafness': 'sum',\n",
    "                                            'development disability': 'sum',\n",
    "                                            'blind': 'sum', \n",
    "                                            'hyperactivity': 'sum',\n",
    "                                            'other disability': 'sum',\n",
    "                                            'traffic violation': 'sum',\n",
    "                                            'reasonable suspicion': 'sum',\n",
    "                                            'knowledge of outstanding arrest warrant or wanted person': 'sum',\n",
    "                                            'consensual encounter resulting in search': 'sum',\n",
    "                                            'parole/probation/PRCS/mandatory supervision': 'sum',\n",
    "                                            'investigtion to determine whether person was truant': 'sum',\n",
    "                                            'possible conduct under education code': 'sum',\n",
    "                                            'unidentified reason for stop': 'sum',\n",
    "                                            'determine whether student violated school policy': 'sum',\n",
    "                                            'jan_2019': 'sum',\n",
    "                                            'feb_2019': 'sum',\n",
    "                                            'mar_2019': 'sum',\n",
    "                                            'apr_2019': 'sum',\n",
    "                                            'may_2019': 'sum',\n",
    "                                            'jun_2019': 'sum',\n",
    "                                            'jul_2019': 'sum',\n",
    "                                            'aug_2019': 'sum',\n",
    "                                            'sep_2019': 'sum',\n",
    "                                            'oct_2019': 'sum',\n",
    "                                            'nov_2019': 'sum',\n",
    "                                            'dec_2019': 'sum',\n",
    "                                            'handcuffed': 'sum',\n",
    "                                            'not handcuffed': 'sum',\n",
    "                                            'drugs found': 'sum',\n",
    "                                            'drugs not found': 'sum'\n",
    "                                              }).reset_index()[['ced_drugs', 'BIPOC', 'white', 'Hispanic or Latino', 'Black or African American', \n",
    "                                                                'Asian', 'Multiracial', 'Middle Eastern or South Asian', 'Pacific Islander', \n",
    "                                                                'Native American', 'male', 'female', 'unidentified gender', 'gender nonconforming', \n",
    "                                                                'lgbt', 'not lgbt', 'less than 10 years', 'aged 10-20', 'aged 21-30', 'aged 31-40',\n",
    "                                                                'aged 41-50', 'aged 51-60', 'aged 61-70', 'aged 71-80', 'aged 81-90', 'aged 91-100', \n",
    "                                                                'more than 100 years', 'full english fluency', 'limited english fluency', 'disabled', \n",
    "                                                                'not disabled', 'mental health condition', 'speech impairment', 'multiple disability', \n",
    "                                                                'deafness', 'development disability', 'blind', 'hyperactivity', 'other disability', \n",
    "                                                                'traffic violation', 'reasonable suspicion',\n",
    "                                                                'knowledge of outstanding arrest warrant or wanted person', \n",
    "                                                                'consensual encounter resulting in search', 'parole/probation/PRCS/mandatory supervision', \n",
    "                                                                'investigtion to determine whether person was truant', 'possible conduct under education code',\n",
    "                                                                'unidentified reason for stop', 'determine whether student violated school policy', 'jan_2019', \n",
    "                                                                'feb_2019', 'mar_2019', 'apr_2019', 'may_2019', 'jun_2019', 'jul_2019', 'aug_2019', 'sep_2019', \n",
    "                                                                'oct_2019', 'nov_2019', 'dec_2019', 'handcuffed', 'not handcuffed', 'drugs found', \n",
    "                                                                'drugs not found']]\n",
    "\n",
    "\n",
    "drug_composition"
   ]
  },
  {
   "cell_type": "markdown",
   "id": "9d619543",
   "metadata": {},
   "source": [
    "#### 4. Preparing Data for Export"
   ]
  },
  {
   "cell_type": "code",
   "execution_count": 67,
   "id": "e7ccf6cc",
   "metadata": {},
   "outputs": [],
   "source": [
    "# write 'data_oakland' to a csv\n",
    "data_oakland.to_csv('data/processed/data_oak.csv', encoding = 'utf-8', index = False)\n",
    "\n",
    "# write 'stop_composition' to a csv\n",
    "stop_composition.to_csv('data/interim/stop_composition.csv', encoding = 'utf-8', index = False)\n",
    "\n",
    "# write 'handcuff_composition' to a csv\n",
    "handcuff_composition.to_csv('data/interim/handcuff_composition.csv', encoding = 'utf-8', index = False)\n",
    "\n",
    "# write 'drug_composition' to a csv\n",
    "drug_composition.to_csv('data/interim/drug_composition.csv', encoding = 'utf-8', index = False)"
   ]
  }
 ],
 "metadata": {
  "kernelspec": {
   "display_name": "Python 3 (ipykernel)",
   "language": "python",
   "name": "python3"
  },
  "language_info": {
   "codemirror_mode": {
    "name": "ipython",
    "version": 3
   },
   "file_extension": ".py",
   "mimetype": "text/x-python",
   "name": "python",
   "nbconvert_exporter": "python",
   "pygments_lexer": "ipython3",
   "version": "3.7.3"
  }
 },
 "nbformat": 4,
 "nbformat_minor": 5
}
